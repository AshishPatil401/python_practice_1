{
 "cells": [
  {
   "cell_type": "markdown",
   "id": "29a49f78",
   "metadata": {},
   "source": [
    "### 1. Python program to add two numbers"
   ]
  },
  {
   "cell_type": "code",
   "execution_count": 1,
   "id": "9f06ce87",
   "metadata": {},
   "outputs": [],
   "source": [
    "def addition(a,b):\n",
    "    return a + b"
   ]
  },
  {
   "cell_type": "code",
   "execution_count": 2,
   "id": "911da3d2",
   "metadata": {},
   "outputs": [
    {
     "data": {
      "text/plain": [
       "6"
      ]
     },
     "execution_count": 2,
     "metadata": {},
     "output_type": "execute_result"
    }
   ],
   "source": [
    "addition(1,5)"
   ]
  },
  {
   "cell_type": "markdown",
   "id": "75c1e9e8",
   "metadata": {},
   "source": [
    "### 2. Maximum of two numbers in Python\n"
   ]
  },
  {
   "cell_type": "code",
   "execution_count": 20,
   "id": "1d533573",
   "metadata": {},
   "outputs": [],
   "source": [
    "def max_num(a,b):\n",
    "    if a >= b:\n",
    "        return a\n",
    "    else:\n",
    "        return b"
   ]
  },
  {
   "cell_type": "code",
   "execution_count": 21,
   "id": "527714d9",
   "metadata": {},
   "outputs": [
    {
     "data": {
      "text/plain": [
       "89"
      ]
     },
     "execution_count": 21,
     "metadata": {},
     "output_type": "execute_result"
    }
   ],
   "source": [
    "max_num(76,89)"
   ]
  },
  {
   "cell_type": "code",
   "execution_count": 24,
   "id": "be20919a",
   "metadata": {},
   "outputs": [
    {
     "name": "stdout",
     "output_type": "stream",
     "text": [
      "a = 444\n",
      "b = 333\n",
      "maximum number =  444\n"
     ]
    }
   ],
   "source": [
    "a = int(input(\"a = \"))\n",
    "b = int(input(\"b = \"))\n",
    "\n",
    "max_num = max(a,b)\n",
    "print(\"maximum number = \",max_num)"
   ]
  },
  {
   "cell_type": "code",
   "execution_count": 26,
   "id": "95983188",
   "metadata": {},
   "outputs": [
    {
     "name": "stdout",
     "output_type": "stream",
     "text": [
      "a = 43\n",
      "b = 33\n",
      "maximum number =  43\n"
     ]
    }
   ],
   "source": [
    "a = int(input(\"a = \"))\n",
    "b = int(input(\"b = \"))\n",
    "\n",
    "max_num = a if a>b else b\n",
    "print(\"maximum number = \",max_num)"
   ]
  },
  {
   "cell_type": "code",
   "execution_count": 31,
   "id": "393be26a",
   "metadata": {},
   "outputs": [
    {
     "name": "stdout",
     "output_type": "stream",
     "text": [
      "a = 2\n",
      "b = 3\n",
      "c = 111\n",
      "maximum number =  111\n"
     ]
    }
   ],
   "source": [
    "a = int(input(\"a = \"))\n",
    "b = int(input(\"b = \"))\n",
    "c = int(input(\"c = \"))\n",
    "max_num = a if a>b and a>c else b if b>c else c\n",
    "print(\"maximum number = \",max_num)"
   ]
  },
  {
   "cell_type": "markdown",
   "id": "b96593dc",
   "metadata": {},
   "source": [
    "### 3. Python Program for factorial of a number\n"
   ]
  },
  {
   "cell_type": "code",
   "execution_count": 1,
   "id": "bdfa6a63",
   "metadata": {},
   "outputs": [],
   "source": [
    "def factorial(n):\n",
    "    fact_sum = 1\n",
    "    for i in range(1,n+1):\n",
    "        fact_sum = fact_sum*i\n",
    "    return fact_sum\n"
   ]
  },
  {
   "cell_type": "code",
   "execution_count": 3,
   "id": "bc7e0888",
   "metadata": {},
   "outputs": [
    {
     "data": {
      "text/plain": [
       "362880"
      ]
     },
     "execution_count": 3,
     "metadata": {},
     "output_type": "execute_result"
    }
   ],
   "source": [
    "factorial(9)"
   ]
  },
  {
   "cell_type": "code",
   "execution_count": 4,
   "id": "c7c4c31a",
   "metadata": {},
   "outputs": [],
   "source": [
    "def factorial_r(n):\n",
    "    return 1 if (n==0 or n==1) else n * factorial_r(n-1)"
   ]
  },
  {
   "cell_type": "code",
   "execution_count": 5,
   "id": "1eed9a96",
   "metadata": {},
   "outputs": [
    {
     "data": {
      "text/plain": [
       "362880"
      ]
     },
     "execution_count": 5,
     "metadata": {},
     "output_type": "execute_result"
    }
   ],
   "source": [
    "factorial_r(9)"
   ]
  },
  {
   "cell_type": "code",
   "execution_count": 1,
   "id": "fec0e259",
   "metadata": {},
   "outputs": [
    {
     "data": {
      "text/plain": [
       "24"
      ]
     },
     "execution_count": 1,
     "metadata": {},
     "output_type": "execute_result"
    }
   ],
   "source": [
    "def factorial_l(n):\n",
    "    fact = 1\n",
    "    while n > 1:\n",
    "        fact = fact * n\n",
    "        n -= 1\n",
    "    return fact \n",
    "\n",
    "factorial_l(4)   "
   ]
  },
  {
   "cell_type": "markdown",
   "id": "28b4d41f",
   "metadata": {},
   "source": [
    "### 4. Python Program for simple interest\n",
    "\n",
    ">Simple Interest = (P x T x R)/100\n"
   ]
  },
  {
   "cell_type": "code",
   "execution_count": 66,
   "id": "6490c17e",
   "metadata": {},
   "outputs": [],
   "source": [
    "def calculateSI(p,t,r):\n",
    "    SI = p*r*t/100\n",
    "    return SI"
   ]
  },
  {
   "cell_type": "code",
   "execution_count": 68,
   "id": "8f1ed347",
   "metadata": {},
   "outputs": [
    {
     "data": {
      "text/plain": [
       "800.0"
      ]
     },
     "execution_count": 68,
     "metadata": {},
     "output_type": "execute_result"
    }
   ],
   "source": [
    "calculateSI(4000,2,10)"
   ]
  },
  {
   "cell_type": "markdown",
   "id": "e470f1ba",
   "metadata": {},
   "source": [
    "### 5. Python Program for simple interest\n",
    "\n",
    ">A = P(1 + R/100)^t\n",
    "\n",
    ">Compound Interest = A – P "
   ]
  },
  {
   "cell_type": "code",
   "execution_count": 79,
   "id": "96f6d3b5",
   "metadata": {},
   "outputs": [],
   "source": [
    "def calculate_CI(p,t,r):\n",
    "    amount = p *  (1+r/100)**t         # p * pow((1+r)/100 , t)\n",
    "    CI = amount - p\n",
    "    return CI\n",
    "    "
   ]
  },
  {
   "cell_type": "code",
   "execution_count": 80,
   "id": "82eee779",
   "metadata": {},
   "outputs": [
    {
     "data": {
      "text/plain": [
       "133.0992000000001"
      ]
     },
     "execution_count": 80,
     "metadata": {},
     "output_type": "execute_result"
    }
   ],
   "source": [
    "calculate_CI(1200,2,5.4)"
   ]
  },
  {
   "cell_type": "markdown",
   "id": "9feb44e1",
   "metadata": {},
   "source": [
    "### 6. Python Program to check Armstrong Number\n"
   ]
  },
  {
   "cell_type": "code",
   "execution_count": 2,
   "id": "4b6c4fa1",
   "metadata": {},
   "outputs": [],
   "source": [
    "def isArmstrongNum(n):\n",
    "    try:\n",
    "        num_str = str(n)\n",
    "        len_number = len(num_str) \n",
    "        sum = 0\n",
    "        for i in num_str:\n",
    "            sum = sum + (int(i) ** len_number)\n",
    "\n",
    "        if sum == n:\n",
    "            return True\n",
    "        else:\n",
    "            return False\n",
    "    except Exception as e:\n",
    "        print(\"Error in isArmsrongNum function: \",e)\n",
    "        "
   ]
  },
  {
   "cell_type": "code",
   "execution_count": 3,
   "id": "a8dc9e34",
   "metadata": {},
   "outputs": [
    {
     "name": "stdout",
     "output_type": "stream",
     "text": [
      "Error in isArmsrongNum function:  invalid literal for int() with base 10: 's'\n"
     ]
    }
   ],
   "source": [
    "isArmstrongNum('s')"
   ]
  },
  {
   "cell_type": "code",
   "execution_count": 4,
   "id": "93994afd",
   "metadata": {},
   "outputs": [
    {
     "data": {
      "text/plain": [
       "True"
      ]
     },
     "execution_count": 4,
     "metadata": {},
     "output_type": "execute_result"
    }
   ],
   "source": [
    "isArmstrongNum(153)"
   ]
  },
  {
   "cell_type": "code",
   "execution_count": 115,
   "id": "fe16f57d",
   "metadata": {},
   "outputs": [
    {
     "data": {
      "text/plain": [
       "False"
      ]
     },
     "execution_count": 115,
     "metadata": {},
     "output_type": "execute_result"
    }
   ],
   "source": [
    "isArmstrongNum(123)"
   ]
  },
  {
   "cell_type": "code",
   "execution_count": 117,
   "id": "a89a2643",
   "metadata": {},
   "outputs": [
    {
     "data": {
      "text/plain": [
       "True"
      ]
     },
     "execution_count": 117,
     "metadata": {},
     "output_type": "execute_result"
    }
   ],
   "source": [
    "isArmstrongNum(548834)  "
   ]
  },
  {
   "cell_type": "markdown",
   "id": "f0f04116",
   "metadata": {},
   "source": [
    "### 7. Python Program for Program to find area of a circle"
   ]
  },
  {
   "cell_type": "code",
   "execution_count": 118,
   "id": "d191c574",
   "metadata": {},
   "outputs": [],
   "source": [
    "def area_circle(r):\n",
    "    return 3.142 * r * r"
   ]
  },
  {
   "cell_type": "code",
   "execution_count": 119,
   "id": "c8a78b50",
   "metadata": {},
   "outputs": [
    {
     "data": {
      "text/plain": [
       "1256.0"
      ]
     },
     "execution_count": 119,
     "metadata": {},
     "output_type": "execute_result"
    }
   ],
   "source": [
    "area_circle(20)"
   ]
  },
  {
   "cell_type": "code",
   "execution_count": 126,
   "id": "391fc95a",
   "metadata": {},
   "outputs": [],
   "source": [
    "from math import pi\n",
    "\n",
    "def find_area(r):\n",
    "    return pi * r * r"
   ]
  },
  {
   "cell_type": "code",
   "execution_count": 127,
   "id": "a3e52ab4",
   "metadata": {},
   "outputs": [
    {
     "data": {
      "text/plain": [
       "1256.6370614359173"
      ]
     },
     "execution_count": 127,
     "metadata": {},
     "output_type": "execute_result"
    }
   ],
   "source": [
    "find_area(20)"
   ]
  },
  {
   "cell_type": "markdown",
   "id": "3a0f854a",
   "metadata": {},
   "source": [
    "### 8. Python program to print all Prime numbers in an Interval"
   ]
  },
  {
   "cell_type": "code",
   "execution_count": 31,
   "id": "8e47bba4",
   "metadata": {},
   "outputs": [],
   "source": [
    "def IsPrimeNumber(start, end):\n",
    "    l_p = []\n",
    "    l_np = []\n",
    "    \n",
    "    for num in range(start, end):\n",
    "        flag = False\n",
    "        for i in range(2,num):\n",
    "            if (num%i==0):\n",
    "                flag = True\n",
    "                break\n",
    "        if flag:\n",
    "            l_np.append(num)\n",
    "        else:\n",
    "            l_p.append(num)\n",
    "    print(\"Prime numbers: \",l_p)\n",
    "    print(\"Non-Prime numbers: \",l_np)"
   ]
  },
  {
   "cell_type": "code",
   "execution_count": 32,
   "id": "5025843b",
   "metadata": {},
   "outputs": [
    {
     "name": "stdout",
     "output_type": "stream",
     "text": [
      "Prime numbers:  [5, 7, 11, 13, 17, 19, 23, 29]\n",
      "Non-Prime numbers:  [6, 8, 9, 10, 12, 14, 15, 16, 18, 20, 21, 22, 24, 25, 26, 27, 28]\n"
     ]
    }
   ],
   "source": [
    "IsPrimeNumber(5,30)"
   ]
  },
  {
   "cell_type": "code",
   "execution_count": null,
   "id": "0c812a49",
   "metadata": {},
   "outputs": [],
   "source": []
  },
  {
   "cell_type": "code",
   "execution_count": 10,
   "id": "ce32e9b1",
   "metadata": {},
   "outputs": [
    {
     "name": "stdout",
     "output_type": "stream",
     "text": [
      "2 is prime number\n",
      "3 is prime number\n",
      "4 is prime number\n",
      "5 is prime number\n",
      "6 is not a prime number\n",
      "7 is prime number\n",
      "8 is not a prime number\n",
      "9 is not a prime number\n",
      "10 is not a prime number\n",
      "11 is prime number\n",
      "12 is not a prime number\n",
      "13 is prime number\n",
      "14 is not a prime number\n",
      "15 is not a prime number\n",
      "16 is not a prime number\n",
      "17 is prime number\n",
      "18 is not a prime number\n",
      "19 is prime number\n",
      "20 is not a prime number\n",
      "21 is not a prime number\n",
      "22 is not a prime number\n",
      "23 is prime number\n",
      "24 is not a prime number\n",
      "25 is not a prime number\n",
      "26 is not a prime number\n",
      "27 is not a prime number\n",
      "28 is not a prime number\n",
      "29 is prime number\n"
     ]
    }
   ],
   "source": [
    "l =[]\n",
    "for i in range(0,30):\n",
    "    IsPrimeNumber(i)"
   ]
  },
  {
   "cell_type": "code",
   "execution_count": null,
   "id": "b043087d",
   "metadata": {},
   "outputs": [],
   "source": []
  },
  {
   "cell_type": "markdown",
   "id": "c1435bc1",
   "metadata": {},
   "source": [
    "### 9. Python program to check whether a number is Prime or not"
   ]
  },
  {
   "cell_type": "code",
   "execution_count": null,
   "id": "fae72f86",
   "metadata": {},
   "outputs": [],
   "source": [
    "def IsPrimeNumber(num):\n",
    "    flag = False\n",
    "    x = num//2\n",
    "    if num>1:\n",
    "        for i in range(2,x):\n",
    "            if (num%i==0):\n",
    "                flag = True\n",
    "                break\n",
    "        if flag:\n",
    "            print(f\"{num} is not a prime number\")\n",
    "        else:\n",
    "            print(f\"{num} is prime number\")"
   ]
  },
  {
   "cell_type": "code",
   "execution_count": null,
   "id": "c2dfbc6e",
   "metadata": {},
   "outputs": [],
   "source": []
  },
  {
   "cell_type": "markdown",
   "id": "f8e9e7fe",
   "metadata": {},
   "source": [
    "### 10. Python Program for n-th Fibonacci series\n"
   ]
  },
  {
   "cell_type": "code",
   "execution_count": 146,
   "id": "491d8c87",
   "metadata": {},
   "outputs": [],
   "source": [
    "def genfab(n):\n",
    "    a = 1\n",
    "    b = 1\n",
    "    output = []\n",
    "    for i in range(n):\n",
    "        output.append(a)\n",
    "        a ,b = b, a+b\n",
    "    return output\n",
    "    "
   ]
  },
  {
   "cell_type": "code",
   "execution_count": 147,
   "id": "a5b10399",
   "metadata": {},
   "outputs": [
    {
     "data": {
      "text/plain": [
       "[1, 1, 2, 3, 5, 8, 13, 21, 34, 55]"
      ]
     },
     "execution_count": 147,
     "metadata": {},
     "output_type": "execute_result"
    }
   ],
   "source": [
    "genfab(10)"
   ]
  },
  {
   "cell_type": "markdown",
   "id": "48071ace",
   "metadata": {},
   "source": [
    "### 11. Python Program for How to check if a given number is Fibonacci number?\n"
   ]
  },
  {
   "cell_type": "code",
   "execution_count": null,
   "id": "c2d11493",
   "metadata": {},
   "outputs": [],
   "source": []
  },
  {
   "cell_type": "code",
   "execution_count": null,
   "id": "af6c84c0",
   "metadata": {},
   "outputs": [],
   "source": []
  },
  {
   "cell_type": "markdown",
   "id": "e3800719",
   "metadata": {},
   "source": [
    "### 12. Python Program for n\\’th multiple of a number in Fibonacci Series\n"
   ]
  },
  {
   "cell_type": "code",
   "execution_count": null,
   "id": "cdd2bd44",
   "metadata": {},
   "outputs": [],
   "source": []
  },
  {
   "cell_type": "code",
   "execution_count": null,
   "id": "3c5fe5ce",
   "metadata": {},
   "outputs": [],
   "source": []
  },
  {
   "cell_type": "markdown",
   "id": "28532d21",
   "metadata": {},
   "source": [
    "### 13.Program to print ASCII Value of a character\n"
   ]
  },
  {
   "cell_type": "code",
   "execution_count": 149,
   "id": "c28edd82",
   "metadata": {},
   "outputs": [],
   "source": [
    "def getASCII(s):\n",
    "    return ord(s)"
   ]
  },
  {
   "cell_type": "code",
   "execution_count": 151,
   "id": "27426de1",
   "metadata": {},
   "outputs": [
    {
     "data": {
      "text/plain": [
       "83"
      ]
     },
     "execution_count": 151,
     "metadata": {},
     "output_type": "execute_result"
    }
   ],
   "source": [
    "getASCII('S')"
   ]
  },
  {
   "cell_type": "code",
   "execution_count": 156,
   "id": "2c44821e",
   "metadata": {},
   "outputs": [],
   "source": [
    "def getASCII(s):\n",
    "    values = []\n",
    "    for i in s:\n",
    "        ascii = ord(i)\n",
    "        values.append(ascii)\n",
    "    return values "
   ]
  },
  {
   "cell_type": "code",
   "execution_count": 157,
   "id": "22852081",
   "metadata": {},
   "outputs": [
    {
     "data": {
      "text/plain": [
       "[97, 98, 99, 100]"
      ]
     },
     "execution_count": 157,
     "metadata": {},
     "output_type": "execute_result"
    }
   ],
   "source": [
    "getASCII('abcd')"
   ]
  },
  {
   "cell_type": "code",
   "execution_count": null,
   "id": "a0e62edf",
   "metadata": {},
   "outputs": [],
   "source": []
  },
  {
   "cell_type": "markdown",
   "id": "d92cb070",
   "metadata": {},
   "source": [
    "### 14. Python Program for Sum of squares of first n natural numbers\n"
   ]
  },
  {
   "cell_type": "code",
   "execution_count": 158,
   "id": "f732ded2",
   "metadata": {},
   "outputs": [],
   "source": [
    "def square_sum(n):\n",
    "    sum = 0\n",
    "    for i in range(1,n+1):\n",
    "        sum = sum + (i*i)\n",
    "    return sum"
   ]
  },
  {
   "cell_type": "code",
   "execution_count": 159,
   "id": "afc49036",
   "metadata": {},
   "outputs": [
    {
     "data": {
      "text/plain": [
       "14"
      ]
     },
     "execution_count": 159,
     "metadata": {},
     "output_type": "execute_result"
    }
   ],
   "source": [
    "square_sum(3)"
   ]
  },
  {
   "cell_type": "code",
   "execution_count": 15,
   "id": "e355546d",
   "metadata": {},
   "outputs": [],
   "source": [
    "def square_sum1(n):\n",
    "    x = (n*(n+1)*(2*n+1))/6\n",
    "    return x"
   ]
  },
  {
   "cell_type": "code",
   "execution_count": 16,
   "id": "135aaa64",
   "metadata": {},
   "outputs": [
    {
     "data": {
      "text/plain": [
       "14.0"
      ]
     },
     "execution_count": 16,
     "metadata": {},
     "output_type": "execute_result"
    }
   ],
   "source": [
    "square_sum1(3)"
   ]
  },
  {
   "cell_type": "markdown",
   "id": "e66ce233",
   "metadata": {},
   "source": [
    "### 15. Python Program for Sum of cubes of first n natural numbers\n"
   ]
  },
  {
   "cell_type": "code",
   "execution_count": 1,
   "id": "7d605f14",
   "metadata": {},
   "outputs": [],
   "source": [
    "def cube_sum(n):\n",
    "    sum = 0\n",
    "    for i in range(1,n+1):\n",
    "        sum = sum + (i*i*i)\n",
    "    return sum"
   ]
  },
  {
   "cell_type": "code",
   "execution_count": 3,
   "id": "dcf5ffdf",
   "metadata": {},
   "outputs": [
    {
     "data": {
      "text/plain": [
       "784"
      ]
     },
     "execution_count": 3,
     "metadata": {},
     "output_type": "execute_result"
    }
   ],
   "source": [
    "cube_sum(7)"
   ]
  },
  {
   "cell_type": "code",
   "execution_count": 10,
   "id": "0c0fbe64",
   "metadata": {},
   "outputs": [],
   "source": [
    "def cube_sum1(n):\n",
    "    x = (n*(n+1)/2)**2\n",
    "    return x"
   ]
  },
  {
   "cell_type": "code",
   "execution_count": 11,
   "id": "561b9b04",
   "metadata": {},
   "outputs": [
    {
     "data": {
      "text/plain": [
       "784.0"
      ]
     },
     "execution_count": 11,
     "metadata": {},
     "output_type": "execute_result"
    }
   ],
   "source": [
    "cube_sum1(7)"
   ]
  },
  {
   "cell_type": "code",
   "execution_count": null,
   "id": "ca569a04",
   "metadata": {},
   "outputs": [],
   "source": []
  }
 ],
 "metadata": {
  "kernelspec": {
   "display_name": "Python 3 (ipykernel)",
   "language": "python",
   "name": "python3"
  },
  "language_info": {
   "codemirror_mode": {
    "name": "ipython",
    "version": 3
   },
   "file_extension": ".py",
   "mimetype": "text/x-python",
   "name": "python",
   "nbconvert_exporter": "python",
   "pygments_lexer": "ipython3",
   "version": "3.9.7"
  }
 },
 "nbformat": 4,
 "nbformat_minor": 5
}
