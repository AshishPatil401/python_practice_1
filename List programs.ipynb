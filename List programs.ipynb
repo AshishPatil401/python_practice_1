{
 "cells": [
  {
   "cell_type": "markdown",
   "id": "c0633b55",
   "metadata": {},
   "source": [
    "### 1. Python program to interchange first and last elements in a list\n",
    "  "
   ]
  },
  {
   "cell_type": "code",
   "execution_count": 2,
   "id": "d1c5d411",
   "metadata": {},
   "outputs": [],
   "source": [
    "def swapPosition1(l):\n",
    "    size = len(l)\n",
    "    \n",
    "    temp = l[0]\n",
    "    l[0] = l[size-1]\n",
    "    l[size-1] = temp\n",
    "    \n",
    "    return l\n",
    "    "
   ]
  },
  {
   "cell_type": "code",
   "execution_count": 5,
   "id": "18486617",
   "metadata": {},
   "outputs": [
    {
     "data": {
      "text/plain": [
       "[99, 12, 23, 45, 55, 15]"
      ]
     },
     "execution_count": 5,
     "metadata": {},
     "output_type": "execute_result"
    }
   ],
   "source": [
    "l = [15,12,23,45,55,99]\n",
    "swapPosition1(l)"
   ]
  },
  {
   "cell_type": "code",
   "execution_count": 7,
   "id": "f716c0fa",
   "metadata": {},
   "outputs": [],
   "source": [
    "def swapPosition2(l):\n",
    "    l[0], l[-1] = l[-1], l[0]\n",
    "    return l"
   ]
  },
  {
   "cell_type": "code",
   "execution_count": 10,
   "id": "9387eccc",
   "metadata": {},
   "outputs": [
    {
     "data": {
      "text/plain": [
       "['f', 'b', 'c', 'd', 'e', 'a']"
      ]
     },
     "execution_count": 10,
     "metadata": {},
     "output_type": "execute_result"
    }
   ],
   "source": [
    "swapPosition2(['a','b','c','d','e','f'])"
   ]
  },
  {
   "cell_type": "code",
   "execution_count": 15,
   "id": "e476103b",
   "metadata": {},
   "outputs": [],
   "source": [
    "def swapPosition3(l):\n",
    "    start, *middle, end = l\n",
    "    l= [end,*middle,start]\n",
    "    return l"
   ]
  },
  {
   "cell_type": "code",
   "execution_count": 16,
   "id": "7dee8109",
   "metadata": {},
   "outputs": [
    {
     "data": {
      "text/plain": [
       "[77, 44, 55, 66, 33]"
      ]
     },
     "execution_count": 16,
     "metadata": {},
     "output_type": "execute_result"
    }
   ],
   "source": [
    "swapPosition3([33,44,55,66,77])"
   ]
  },
  {
   "cell_type": "code",
   "execution_count": 17,
   "id": "51ebe6f2",
   "metadata": {},
   "outputs": [],
   "source": [
    "def swapPosition4(l):\n",
    "    f_element = l.pop(0)\n",
    "    l_element = l.pop(-1)\n",
    "    \n",
    "    l.insert(0,l_element)\n",
    "    l.append(f_element)\n",
    "    \n",
    "    return l"
   ]
  },
  {
   "cell_type": "code",
   "execution_count": 18,
   "id": "17b90151",
   "metadata": {},
   "outputs": [
    {
     "data": {
      "text/plain": [
       "[1, 7, 5, 3, 9]"
      ]
     },
     "execution_count": 18,
     "metadata": {},
     "output_type": "execute_result"
    }
   ],
   "source": [
    "swapposition4([9,7,5,3,1])"
   ]
  },
  {
   "cell_type": "markdown",
   "id": "fb5ffbef",
   "metadata": {},
   "source": [
    "### 2. Python program to swap two elements in a list\n"
   ]
  },
  {
   "cell_type": "code",
   "execution_count": 38,
   "id": "b1acb43d",
   "metadata": {},
   "outputs": [],
   "source": [
    "l = [1,3,4,5,6,7,8,3,44,55,33,4,5,6,434,34,45,56,234,90]\n",
    "\n",
    "def swapElements1(l,pos_1,pos_2):\n",
    "    temp = l[pos_1-1]\n",
    "    l[pos_1-1] = l[pos_2-1]\n",
    "    l[pos_2-1] = temp\n",
    "    return l\n",
    "    "
   ]
  },
  {
   "cell_type": "code",
   "execution_count": 39,
   "id": "4adcdd31",
   "metadata": {},
   "outputs": [
    {
     "data": {
      "text/plain": [
       "20"
      ]
     },
     "execution_count": 39,
     "metadata": {},
     "output_type": "execute_result"
    }
   ],
   "source": [
    "len(l)"
   ]
  },
  {
   "cell_type": "code",
   "execution_count": 40,
   "id": "41aa6370",
   "metadata": {},
   "outputs": [
    {
     "data": {
      "text/plain": [
       "[90, 3, 4, 5, 6, 7, 8, 3, 44, 55, 33, 4, 5, 6, 434, 34, 45, 56, 234, 1]"
      ]
     },
     "execution_count": 40,
     "metadata": {},
     "output_type": "execute_result"
    }
   ],
   "source": [
    "swapElements1(l,1,20)"
   ]
  },
  {
   "cell_type": "code",
   "execution_count": 35,
   "id": "0368bf82",
   "metadata": {},
   "outputs": [],
   "source": [
    "def swapElements2(l,pos_1,pos_2):\n",
    "\n",
    "    l[pos_1-1],l[pos_2-1] = l[pos_2-1],l[pos_1-1]\n",
    "\n",
    "    return l"
   ]
  },
  {
   "cell_type": "code",
   "execution_count": 36,
   "id": "e6bfa738",
   "metadata": {},
   "outputs": [
    {
     "data": {
      "text/plain": [
       "[3, 2, 1, 4, 5, 6, 7]"
      ]
     },
     "execution_count": 36,
     "metadata": {},
     "output_type": "execute_result"
    }
   ],
   "source": [
    "swapElements2([1,2,3,4,5,6,7], 1, 3)"
   ]
  },
  {
   "cell_type": "code",
   "execution_count": 37,
   "id": "0d1d1b4a",
   "metadata": {},
   "outputs": [
    {
     "data": {
      "text/plain": [
       "[1, 90, 4, 5, 6, 7, 8, 3, 44, 55, 33, 4, 5, 6, 434, 34, 45, 56, 234, 3]"
      ]
     },
     "execution_count": 37,
     "metadata": {},
     "output_type": "execute_result"
    }
   ],
   "source": [
    "l = [1,3,4,5,6,7,8,3,44,55,33,4,5,6,434,34,45,56,234,90]\n",
    "\n",
    "swapElements2(l,2,20)"
   ]
  },
  {
   "cell_type": "code",
   "execution_count": 14,
   "id": "8c085e2b",
   "metadata": {},
   "outputs": [],
   "source": [
    "def swapElements3(l, pos_1, pos_2):\n",
    "    \n",
    "    #Pop both elements from the list\n",
    "    first_element = l.pop(pos_1-1)\n",
    "    #print(l)\n",
    "    second_element = l.pop(pos_2-2)\n",
    "    #print(l)\n",
    "    #Insert removed elements\n",
    "    l.insert(pos_1-1, second_element)\n",
    "    l.insert(pos_2-1, first_element)\n",
    "    \n",
    "    return l"
   ]
  },
  {
   "cell_type": "code",
   "execution_count": 15,
   "id": "8bb92f66",
   "metadata": {},
   "outputs": [
    {
     "data": {
      "text/plain": [
       "[4, 2, 3, 1, 5, 6, 7, 8, 9]"
      ]
     },
     "execution_count": 15,
     "metadata": {},
     "output_type": "execute_result"
    }
   ],
   "source": [
    "l = [1,2,3,4,5,6,7,8,9]\n",
    "\n",
    "swapElements3(l,1,4)"
   ]
  },
  {
   "cell_type": "markdown",
   "id": "1498c7d8",
   "metadata": {},
   "source": [
    "### 3. Python | Ways to find length of list\n"
   ]
  },
  {
   "cell_type": "code",
   "execution_count": 16,
   "id": "6373e435",
   "metadata": {},
   "outputs": [],
   "source": [
    "def findLen(l):\n",
    "    c = 0\n",
    "    for i in l:\n",
    "        c += 1\n",
    "    return c\n",
    "        "
   ]
  },
  {
   "cell_type": "code",
   "execution_count": 17,
   "id": "6a223d74",
   "metadata": {},
   "outputs": [
    {
     "data": {
      "text/plain": [
       "4"
      ]
     },
     "execution_count": 17,
     "metadata": {},
     "output_type": "execute_result"
    }
   ],
   "source": [
    "l = [1,2,3,4]\n",
    "findLen(l)"
   ]
  },
  {
   "cell_type": "code",
   "execution_count": 19,
   "id": "a899f852",
   "metadata": {},
   "outputs": [
    {
     "name": "stdout",
     "output_type": "stream",
     "text": [
      "Length of given list l =  4\n"
     ]
    }
   ],
   "source": [
    "print(\"Length of given list l = \" ,len(l))"
   ]
  },
  {
   "cell_type": "markdown",
   "id": "9fd6724e",
   "metadata": {},
   "source": [
    "### 4. Check if element exists in list in Python\n"
   ]
  },
  {
   "cell_type": "code",
   "execution_count": 36,
   "id": "064956ec",
   "metadata": {},
   "outputs": [],
   "source": [
    "def checkElement1(l,n):\n",
    "    if n in l:\n",
    "        return True\n",
    "    else:\n",
    "        return False"
   ]
  },
  {
   "cell_type": "code",
   "execution_count": 37,
   "id": "d29da9fd",
   "metadata": {},
   "outputs": [
    {
     "data": {
      "text/plain": [
       "False"
      ]
     },
     "execution_count": 37,
     "metadata": {},
     "output_type": "execute_result"
    }
   ],
   "source": [
    "checkElement1([1,2,3,4,5],6)"
   ]
  },
  {
   "cell_type": "code",
   "execution_count": 38,
   "id": "5457dd36",
   "metadata": {},
   "outputs": [],
   "source": [
    "def checkElement2(l,n):\n",
    "    exists_count = l.count(n)\n",
    "    if exists_count > 0:\n",
    "        return True\n",
    "    else:\n",
    "        return False"
   ]
  },
  {
   "cell_type": "code",
   "execution_count": 39,
   "id": "7350cbe4",
   "metadata": {},
   "outputs": [
    {
     "data": {
      "text/plain": [
       "True"
      ]
     },
     "execution_count": 39,
     "metadata": {},
     "output_type": "execute_result"
    }
   ],
   "source": [
    "checkElement2(['a','b','c','d'],'d')"
   ]
  },
  {
   "cell_type": "markdown",
   "id": "870d16b4",
   "metadata": {},
   "source": [
    "### 5. Different ways to clear a list in Python\n"
   ]
  },
  {
   "cell_type": "code",
   "execution_count": 60,
   "id": "596d3ffa",
   "metadata": {},
   "outputs": [],
   "source": [
    "def clearList1(l):\n",
    "    for i in range(len(l)):\n",
    "        l.pop(0)\n",
    "    return l"
   ]
  },
  {
   "cell_type": "code",
   "execution_count": 62,
   "id": "74b08e90",
   "metadata": {},
   "outputs": [
    {
     "data": {
      "text/plain": [
       "[]"
      ]
     },
     "execution_count": 62,
     "metadata": {},
     "output_type": "execute_result"
    }
   ],
   "source": [
    "clearList1([12,1,3,4])"
   ]
  },
  {
   "cell_type": "code",
   "execution_count": 91,
   "id": "f28f12bd",
   "metadata": {},
   "outputs": [],
   "source": [
    "def clearList2(l,start_index, end_index):\n",
    "    del l[start_index-1:end_index]\n",
    "    return l"
   ]
  },
  {
   "cell_type": "code",
   "execution_count": 92,
   "id": "05af958c",
   "metadata": {},
   "outputs": [
    {
     "data": {
      "text/plain": [
       "[4, 5, 6, 7, 8, 9]"
      ]
     },
     "execution_count": 92,
     "metadata": {},
     "output_type": "execute_result"
    }
   ],
   "source": [
    "l = [1,2,3,4,5,6,7,8,9]\n",
    "\n",
    "clearList2(l,1,3)"
   ]
  },
  {
   "cell_type": "code",
   "execution_count": 93,
   "id": "855a62ee",
   "metadata": {},
   "outputs": [
    {
     "data": {
      "text/plain": [
       "[]"
      ]
     },
     "execution_count": 93,
     "metadata": {},
     "output_type": "execute_result"
    }
   ],
   "source": [
    "l = [1,2,3,4,5,6,7,8,9]\n",
    "\n",
    "clearList2(l,1,9)"
   ]
  },
  {
   "cell_type": "code",
   "execution_count": 89,
   "id": "74ba00df",
   "metadata": {},
   "outputs": [],
   "source": [
    "l = [1,2,3,4,5,6]\n",
    "\n",
    "def clearList3 (l):\n",
    "    l.clear()\n",
    "    return l"
   ]
  },
  {
   "cell_type": "code",
   "execution_count": 70,
   "id": "81105475",
   "metadata": {},
   "outputs": [
    {
     "data": {
      "text/plain": [
       "[]"
      ]
     },
     "execution_count": 70,
     "metadata": {},
     "output_type": "execute_result"
    }
   ],
   "source": [
    "clearList3(l)"
   ]
  },
  {
   "cell_type": "markdown",
   "id": "105e6344",
   "metadata": {},
   "source": [
    "### 6. Reversing a List in Python\n"
   ]
  },
  {
   "cell_type": "code",
   "execution_count": 100,
   "id": "dfc6b3fb",
   "metadata": {},
   "outputs": [],
   "source": [
    "def reverseList1(l):\n",
    "    output = []\n",
    "    for i in range(1,len(l)+1):\n",
    "        output.append(l[-i])\n",
    "    return output"
   ]
  },
  {
   "cell_type": "code",
   "execution_count": 101,
   "id": "2b8d98a4",
   "metadata": {},
   "outputs": [
    {
     "data": {
      "text/plain": [
       "[6, 5, 4, 3, 2, 1]"
      ]
     },
     "execution_count": 101,
     "metadata": {},
     "output_type": "execute_result"
    }
   ],
   "source": [
    "l = [1,2,3,4,5,6]\n",
    "reverseList1(l)"
   ]
  },
  {
   "cell_type": "code",
   "execution_count": 103,
   "id": "3271dfc5",
   "metadata": {},
   "outputs": [],
   "source": [
    "def reverseList2(l):\n",
    "    return l[::-1]"
   ]
  },
  {
   "cell_type": "code",
   "execution_count": 105,
   "id": "7958eeda",
   "metadata": {},
   "outputs": [
    {
     "data": {
      "text/plain": [
       "[6, 5, 4]"
      ]
     },
     "execution_count": 105,
     "metadata": {},
     "output_type": "execute_result"
    }
   ],
   "source": [
    "reverseList2([4,5,6])"
   ]
  },
  {
   "cell_type": "code",
   "execution_count": 119,
   "id": "55740387",
   "metadata": {},
   "outputs": [],
   "source": [
    "def reverseList3(l):\n",
    "    l.reverse()\n",
    "    return l"
   ]
  },
  {
   "cell_type": "code",
   "execution_count": 120,
   "id": "1802f9cc",
   "metadata": {},
   "outputs": [
    {
     "data": {
      "text/plain": [
       "[4, 3, 2, 1]"
      ]
     },
     "execution_count": 120,
     "metadata": {},
     "output_type": "execute_result"
    }
   ],
   "source": [
    "reverseList3([1,2,3,4])"
   ]
  },
  {
   "cell_type": "code",
   "execution_count": 126,
   "id": "c0085f06",
   "metadata": {},
   "outputs": [],
   "source": [
    "def reverseList4(l):\n",
    "    op = []\n",
    "    for i in reversed(l):\n",
    "        op.append(i)\n",
    "    return op"
   ]
  },
  {
   "cell_type": "code",
   "execution_count": 122,
   "id": "f49606ce",
   "metadata": {},
   "outputs": [
    {
     "data": {
      "text/plain": [
       "[15, 14, 13, 12]"
      ]
     },
     "execution_count": 122,
     "metadata": {},
     "output_type": "execute_result"
    }
   ],
   "source": [
    "reverseList4([12,13,14,15])"
   ]
  },
  {
   "cell_type": "code",
   "execution_count": 125,
   "id": "7fe29b04",
   "metadata": {},
   "outputs": [],
   "source": [
    "def reversedList5(l):\n",
    "    return [i for i in reversed(l)]"
   ]
  },
  {
   "cell_type": "code",
   "execution_count": 127,
   "id": "bb8cc5fe",
   "metadata": {},
   "outputs": [
    {
     "data": {
      "text/plain": [
       "[18, 17, 16, 15]"
      ]
     },
     "execution_count": 127,
     "metadata": {},
     "output_type": "execute_result"
    }
   ],
   "source": [
    "reversedList5([15,16,17,18])"
   ]
  },
  {
   "cell_type": "markdown",
   "id": "adefd342",
   "metadata": {},
   "source": [
    "### 7. Python program to find sum of elements in list\n"
   ]
  },
  {
   "cell_type": "code",
   "execution_count": 1,
   "id": "60518d9f",
   "metadata": {},
   "outputs": [],
   "source": [
    "def listSum1(l):\n",
    "    sum = 0 \n",
    "    for i in l:\n",
    "        sum = sum + i\n",
    "    return sum"
   ]
  },
  {
   "cell_type": "code",
   "execution_count": 2,
   "id": "cbe8ee4d",
   "metadata": {},
   "outputs": [
    {
     "data": {
      "text/plain": [
       "10"
      ]
     },
     "execution_count": 2,
     "metadata": {},
     "output_type": "execute_result"
    }
   ],
   "source": [
    "listSum1([1,2,3,4])"
   ]
  },
  {
   "cell_type": "code",
   "execution_count": 3,
   "id": "a860c272",
   "metadata": {},
   "outputs": [],
   "source": [
    "l = []\n",
    "l."
   ]
  },
  {
   "cell_type": "code",
   "execution_count": 4,
   "id": "a23629b9",
   "metadata": {},
   "outputs": [],
   "source": [
    "def listSum2(l):\n",
    "    return sum(l)"
   ]
  },
  {
   "cell_type": "code",
   "execution_count": 5,
   "id": "4635fc5e",
   "metadata": {},
   "outputs": [
    {
     "data": {
      "text/plain": [
       "45"
      ]
     },
     "execution_count": 5,
     "metadata": {},
     "output_type": "execute_result"
    }
   ],
   "source": [
    "listSum2([1,2,3,4,5,6,7,8,9])"
   ]
  },
  {
   "cell_type": "code",
   "execution_count": 2,
   "id": "deb37f1e",
   "metadata": {},
   "outputs": [],
   "source": [
    "def listSum3(list,size):\n",
    "    if (size == 0):\n",
    "        return 0\n",
    "    else:\n",
    "        return list[size - 1] + listSum3(list,size - 1 )"
   ]
  },
  {
   "cell_type": "code",
   "execution_count": 3,
   "id": "ad0e9d0d",
   "metadata": {},
   "outputs": [
    {
     "name": "stdout",
     "output_type": "stream",
     "text": [
      "15\n"
     ]
    }
   ],
   "source": [
    "l1 = [1,2,3,4,5]\n",
    "total = listSum3(l1,len(l1))\n",
    "print(total)"
   ]
  },
  {
   "cell_type": "markdown",
   "id": "2c41b9ef",
   "metadata": {},
   "source": [
    "### 8. Python | Multiply all numbers in the list (4 different ways)\n"
   ]
  },
  {
   "cell_type": "markdown",
   "id": "5e17099f",
   "metadata": {},
   "source": [
    "##### 1. Multiply each element by certain number"
   ]
  },
  {
   "cell_type": "code",
   "execution_count": 7,
   "id": "d696e982",
   "metadata": {},
   "outputs": [],
   "source": [
    "def listMultiplication1(l,n):\n",
    "    new_l = []\n",
    "    for i in range(len(l)):\n",
    "        v = l[i]*n\n",
    "        new_l.append(v)\n",
    "    return new_l"
   ]
  },
  {
   "cell_type": "code",
   "execution_count": 8,
   "id": "39a1a4bd",
   "metadata": {},
   "outputs": [
    {
     "data": {
      "text/plain": [
       "[46, 90, 66, 88, 64, 64, 42]"
      ]
     },
     "execution_count": 8,
     "metadata": {},
     "output_type": "execute_result"
    }
   ],
   "source": [
    "listMultiplication1([23,45,33,44,32,32,21], 2)"
   ]
  },
  {
   "cell_type": "code",
   "execution_count": 11,
   "id": "7128f551",
   "metadata": {},
   "outputs": [],
   "source": [
    "def listMultiplication2(l,n):\n",
    "    return [l[i]*n for i in range(len(l))]"
   ]
  },
  {
   "cell_type": "code",
   "execution_count": 12,
   "id": "c5678342",
   "metadata": {},
   "outputs": [
    {
     "data": {
      "text/plain": [
       "[36, 39, 39, 3, 12, 39, 45]"
      ]
     },
     "execution_count": 12,
     "metadata": {},
     "output_type": "execute_result"
    }
   ],
   "source": [
    "listMultiplication2([12,13,13,1,4,13,15],3)"
   ]
  },
  {
   "cell_type": "markdown",
   "id": "b3f7fb8d",
   "metadata": {},
   "source": [
    "##### 2. Multiplication of list elements"
   ]
  },
  {
   "cell_type": "code",
   "execution_count": 17,
   "id": "adc545b7",
   "metadata": {},
   "outputs": [],
   "source": [
    "def listMultiplication3(l):\n",
    "    result = 1\n",
    "    for i in l:\n",
    "        result = result*i    \n",
    "    return result\n"
   ]
  },
  {
   "cell_type": "code",
   "execution_count": 18,
   "id": "ee4ab1c2",
   "metadata": {},
   "outputs": [
    {
     "data": {
      "text/plain": [
       "24"
      ]
     },
     "execution_count": 18,
     "metadata": {},
     "output_type": "execute_result"
    }
   ],
   "source": [
    "listMultiplication3([1,2,3,4])"
   ]
  },
  {
   "cell_type": "code",
   "execution_count": 21,
   "id": "28a2de1b",
   "metadata": {},
   "outputs": [],
   "source": [
    "import numpy as np\n",
    "import math\n",
    "\n",
    "def listMultiply1(l):\n",
    "    return np.prod(l)\n",
    "\n",
    "def listMultiply2(l):\n",
    "    return math.prod(l)"
   ]
  },
  {
   "cell_type": "code",
   "execution_count": 22,
   "id": "aa40a6bc",
   "metadata": {},
   "outputs": [
    {
     "data": {
      "text/plain": [
       "403920"
      ]
     },
     "execution_count": 22,
     "metadata": {},
     "output_type": "execute_result"
    }
   ],
   "source": [
    "listMultiply1([12,34,22,45])"
   ]
  },
  {
   "cell_type": "code",
   "execution_count": 23,
   "id": "406bc78c",
   "metadata": {},
   "outputs": [
    {
     "data": {
      "text/plain": [
       "1564"
      ]
     },
     "execution_count": 23,
     "metadata": {},
     "output_type": "execute_result"
    }
   ],
   "source": [
    "listMultiply2([1,2,34,23])"
   ]
  },
  {
   "cell_type": "markdown",
   "id": "dd3794d7",
   "metadata": {},
   "source": [
    "### 9. Python program to find smallest number in a list\n"
   ]
  },
  {
   "cell_type": "code",
   "execution_count": 24,
   "id": "c5624f03",
   "metadata": {},
   "outputs": [],
   "source": [
    "def min_list(l):\n",
    "    return min(l)\n",
    "    "
   ]
  },
  {
   "cell_type": "code",
   "execution_count": 27,
   "id": "afdce075",
   "metadata": {},
   "outputs": [
    {
     "data": {
      "text/plain": [
       "88"
      ]
     },
     "execution_count": 27,
     "metadata": {},
     "output_type": "execute_result"
    }
   ],
   "source": [
    "min_list([233,88,667,9987])"
   ]
  },
  {
   "cell_type": "code",
   "execution_count": 30,
   "id": "04d2b8d5",
   "metadata": {},
   "outputs": [],
   "source": [
    "def min_list1(l):\n",
    "    l.sort()\n",
    "    return l[0]"
   ]
  },
  {
   "cell_type": "code",
   "execution_count": 33,
   "id": "d98da0a6",
   "metadata": {},
   "outputs": [
    {
     "data": {
      "text/plain": [
       "3"
      ]
     },
     "execution_count": 33,
     "metadata": {},
     "output_type": "execute_result"
    }
   ],
   "source": [
    "min_list1([898,6767,545,54,3,776,986,345])"
   ]
  },
  {
   "cell_type": "code",
   "execution_count": 35,
   "id": "720695e4",
   "metadata": {},
   "outputs": [],
   "source": [
    "def min_list2(l):\n",
    "    min1 = l[0]\n",
    "    for i in range(len(l)):\n",
    "        if l[i] < min1:\n",
    "            min1 = l[i]\n",
    "    return min1\n",
    "        "
   ]
  },
  {
   "cell_type": "code",
   "execution_count": 36,
   "id": "e3b5ff4e",
   "metadata": {},
   "outputs": [
    {
     "data": {
      "text/plain": [
       "2"
      ]
     },
     "execution_count": 36,
     "metadata": {},
     "output_type": "execute_result"
    }
   ],
   "source": [
    "min_list2([12,322,24,34,66,34,66,2,21])"
   ]
  },
  {
   "cell_type": "markdown",
   "id": "fa383d1b",
   "metadata": {},
   "source": [
    "### 10. Python program to find largest number in a list\n"
   ]
  },
  {
   "cell_type": "code",
   "execution_count": 38,
   "id": "c257ea4d",
   "metadata": {},
   "outputs": [],
   "source": [
    "def max_list(l):\n",
    "    return max(l)\n",
    "    "
   ]
  },
  {
   "cell_type": "code",
   "execution_count": 39,
   "id": "8d65d2fb",
   "metadata": {},
   "outputs": [
    {
     "data": {
      "text/plain": [
       "7565"
      ]
     },
     "execution_count": 39,
     "metadata": {},
     "output_type": "execute_result"
    }
   ],
   "source": [
    "max_list([1,2,3,44,5,6,7565,33,4,5])"
   ]
  },
  {
   "cell_type": "code",
   "execution_count": 44,
   "id": "c2a1b167",
   "metadata": {},
   "outputs": [],
   "source": [
    "def max_list1(l):\n",
    "    l.sort()\n",
    "    return l[len(l)-1]"
   ]
  },
  {
   "cell_type": "code",
   "execution_count": 45,
   "id": "59ab575a",
   "metadata": {},
   "outputs": [
    {
     "data": {
      "text/plain": [
       "7565"
      ]
     },
     "execution_count": 45,
     "metadata": {},
     "output_type": "execute_result"
    }
   ],
   "source": [
    "max_list1([1,2,3,44,5,6,7565,33,4,5])"
   ]
  },
  {
   "cell_type": "code",
   "execution_count": 46,
   "id": "87b38b26",
   "metadata": {},
   "outputs": [],
   "source": [
    "def max_list2(l):\n",
    "    max1 = l[0]\n",
    "    for i in range(len(l)):\n",
    "        if l[i] > max1:\n",
    "            max1 = l[i]\n",
    "    return max1"
   ]
  },
  {
   "cell_type": "code",
   "execution_count": 49,
   "id": "b526b5a9",
   "metadata": {},
   "outputs": [
    {
     "data": {
      "text/plain": [
       "500000"
      ]
     },
     "execution_count": 49,
     "metadata": {},
     "output_type": "execute_result"
    }
   ],
   "source": [
    "max_list2([1,2,3,44,500000,6,7565,33,4,5])"
   ]
  },
  {
   "cell_type": "markdown",
   "id": "78c3b5bd",
   "metadata": {},
   "source": [
    "### 11. Python program to find second largest number in a list\n"
   ]
  },
  {
   "cell_type": "code",
   "execution_count": 50,
   "id": "927c3c57",
   "metadata": {},
   "outputs": [],
   "source": [
    "def secLargestNum(l):\n",
    "    l.sort()\n",
    "    return l[len(l)-2]"
   ]
  },
  {
   "cell_type": "code",
   "execution_count": 51,
   "id": "38fae2b8",
   "metadata": {},
   "outputs": [
    {
     "data": {
      "text/plain": [
       "2223"
      ]
     },
     "execution_count": 51,
     "metadata": {},
     "output_type": "execute_result"
    }
   ],
   "source": [
    "secLargestNum([122,344,334,654,2223,3333])"
   ]
  },
  {
   "cell_type": "markdown",
   "id": "776c6c26",
   "metadata": {},
   "source": [
    "### 12. Python program to find N largest elements from a list\n"
   ]
  },
  {
   "cell_type": "code",
   "execution_count": null,
   "id": "8f3e23de",
   "metadata": {},
   "outputs": [],
   "source": []
  },
  {
   "cell_type": "code",
   "execution_count": null,
   "id": "c44294c1",
   "metadata": {},
   "outputs": [],
   "source": []
  },
  {
   "cell_type": "markdown",
   "id": "4edbe044",
   "metadata": {},
   "source": [
    "### 13. Python program to print even numbers in a list\n",
    "### 14. Python program to print odd numbers in a list\n"
   ]
  },
  {
   "cell_type": "code",
   "execution_count": 53,
   "id": "97cdbdd2",
   "metadata": {},
   "outputs": [],
   "source": [
    "def even_odd(l):\n",
    "    even_num = []\n",
    "    odd_num = []\n",
    "    for i in l:\n",
    "        if i%2 == 0:\n",
    "            even_num.append(i)\n",
    "        else:\n",
    "            odd_num.append(i)\n",
    "    return even_num, odd_num\n",
    "        "
   ]
  },
  {
   "cell_type": "code",
   "execution_count": 54,
   "id": "4633f01e",
   "metadata": {},
   "outputs": [
    {
     "data": {
      "text/plain": [
       "([2, 4, 6, 8, 0], [1, 3, 5, 7, 9])"
      ]
     },
     "execution_count": 54,
     "metadata": {},
     "output_type": "execute_result"
    }
   ],
   "source": [
    "even_odd([1,2,3,4,5,6,7,8,9,0])"
   ]
  },
  {
   "cell_type": "code",
   "execution_count": null,
   "id": "af46702c",
   "metadata": {},
   "outputs": [],
   "source": []
  },
  {
   "cell_type": "markdown",
   "id": "ea7f1eb1",
   "metadata": {},
   "source": [
    "### 15. Python program to print even numbers in a range\n",
    "### 16. Python program to print odd numbers in a range"
   ]
  },
  {
   "cell_type": "code",
   "execution_count": 62,
   "id": "a4011666",
   "metadata": {},
   "outputs": [],
   "source": [
    "def even_odd2(start,end):\n",
    "    even_num = []\n",
    "    odd_num = []\n",
    "    for i in range(start, end+1):\n",
    "        if i%2 == 0:\n",
    "            even_num.append(i)\n",
    "        else:\n",
    "            odd_num.append(i)\n",
    "    return even_num, odd_num\n",
    "          "
   ]
  },
  {
   "cell_type": "code",
   "execution_count": 63,
   "id": "6ac48da5",
   "metadata": {},
   "outputs": [
    {
     "data": {
      "text/plain": [
       "([2, 4, 6, 8, 10], [1, 3, 5, 7, 9])"
      ]
     },
     "execution_count": 63,
     "metadata": {},
     "output_type": "execute_result"
    }
   ],
   "source": [
    "even_odd2(1,10)"
   ]
  },
  {
   "cell_type": "markdown",
   "id": "a475b9fa",
   "metadata": {},
   "source": [
    "### 17. Python program to print positive numbers in a list\n",
    "### 18. Python program to print negative numbers in a list\n"
   ]
  },
  {
   "cell_type": "code",
   "execution_count": 68,
   "id": "3c93ec31",
   "metadata": {},
   "outputs": [],
   "source": [
    "def numbers(l):\n",
    "    positive_num = []\n",
    "    negative_num = []\n",
    "    for i in l:\n",
    "        if i >= 0:\n",
    "            positive_num.append(i)\n",
    "        else:\n",
    "            negative_num.append(i)\n",
    "    return positive_num, negative_num\n",
    "        "
   ]
  },
  {
   "cell_type": "code",
   "execution_count": 69,
   "id": "1dc97c01",
   "metadata": {},
   "outputs": [
    {
     "data": {
      "text/plain": [
       "([0, 9, 0, 37, 0], [-2, -1, -6, -9, -87])"
      ]
     },
     "execution_count": 69,
     "metadata": {},
     "output_type": "execute_result"
    }
   ],
   "source": [
    "numbers([0,9,-2,0,3-4,-6,-9,37,0,-87])"
   ]
  },
  {
   "cell_type": "code",
   "execution_count": 70,
   "id": "0c4bb02c",
   "metadata": {},
   "outputs": [],
   "source": [
    "def numbers2(l):\n",
    "    pos_num = [i for i in l if i>0]\n",
    "    neg_num = [i for i in l if i<0]\n",
    "    return pos_num, neg_num"
   ]
  },
  {
   "cell_type": "code",
   "execution_count": 71,
   "id": "ac9d2d19",
   "metadata": {},
   "outputs": [
    {
     "data": {
      "text/plain": [
       "([1, 3, 5, 9], [-2, -4, -6, -20])"
      ]
     },
     "execution_count": 71,
     "metadata": {},
     "output_type": "execute_result"
    }
   ],
   "source": [
    "numbers2([1,-2,3,-4,5,-6,9,-20])"
   ]
  },
  {
   "cell_type": "markdown",
   "id": "db42a0a2",
   "metadata": {},
   "source": [
    "### 19. Python program to print positive numbers in a range\n",
    "\n",
    "### 20. Python program to print positive numbers in a range\n"
   ]
  },
  {
   "cell_type": "code",
   "execution_count": 72,
   "id": "decf6e56",
   "metadata": {},
   "outputs": [],
   "source": [
    "def numbers3(start,end):\n",
    "    positive_num = []\n",
    "    negative_num = []\n",
    "    for i in range(start, end+1):\n",
    "        if i >= 0:\n",
    "            positive_num.append(i)\n",
    "        else:\n",
    "            negative_num.append(i)\n",
    "    return positive_num, negative_num"
   ]
  },
  {
   "cell_type": "code",
   "execution_count": 73,
   "id": "f8ca1159",
   "metadata": {},
   "outputs": [
    {
     "data": {
      "text/plain": [
       "([0, 1, 2, 3, 4, 5, 6, 7, 8, 9, 10], [-9, -8, -7, -6, -5, -4, -3, -2, -1])"
      ]
     },
     "execution_count": 73,
     "metadata": {},
     "output_type": "execute_result"
    }
   ],
   "source": [
    "numbers3(-9,10)"
   ]
  },
  {
   "cell_type": "code",
   "execution_count": 74,
   "id": "575c2bd9",
   "metadata": {},
   "outputs": [],
   "source": [
    "def numbers4(start,end):\n",
    "    pos_num = [i for i in range(start, end+1) if i>0]\n",
    "    neg_num = [i for i in range(start, end+1) if i<0]\n",
    "    return pos_num, neg_num"
   ]
  },
  {
   "cell_type": "code",
   "execution_count": 75,
   "id": "0a451e12",
   "metadata": {},
   "outputs": [
    {
     "data": {
      "text/plain": [
       "([1, 2, 3, 4, 5], [-11, -10, -9, -8, -7, -6, -5, -4, -3, -2, -1])"
      ]
     },
     "execution_count": 75,
     "metadata": {},
     "output_type": "execute_result"
    }
   ],
   "source": [
    "numbers4(-11,5)"
   ]
  },
  {
   "cell_type": "markdown",
   "id": "7fd73d6e",
   "metadata": {},
   "source": [
    "### 21. Remove empty List from List\n"
   ]
  },
  {
   "cell_type": "code",
   "execution_count": 14,
   "id": "115574ad",
   "metadata": {},
   "outputs": [],
   "source": [
    "def removeEmptyList(l):\n",
    "    try:\n",
    "        for i in l:\n",
    "            if type(i)==list:\n",
    "                if len(i)==0:\n",
    "                    l.remove(i)\n",
    "        return l\n",
    "    except Exception as e:\n",
    "        print(\"Exception in function : \",e)\n",
    "        "
   ]
  },
  {
   "cell_type": "code",
   "execution_count": 15,
   "id": "790df6a2",
   "metadata": {},
   "outputs": [
    {
     "data": {
      "text/plain": [
       "[1, 2, 3, 45, 65, 4, 444]"
      ]
     },
     "execution_count": 15,
     "metadata": {},
     "output_type": "execute_result"
    }
   ],
   "source": [
    "removeEmptyList([1,2,[],3,45,65,[],4,[],444,[]])"
   ]
  },
  {
   "cell_type": "code",
   "execution_count": 16,
   "id": "0e06b712",
   "metadata": {},
   "outputs": [],
   "source": [
    "def removeEmptyList1(l):\n",
    "    try:\n",
    "        l = [i for i in l if i != []]\n",
    "        return l\n",
    "    except Exception as e:\n",
    "        print(\"Exception in function : \",e)"
   ]
  },
  {
   "cell_type": "code",
   "execution_count": 17,
   "id": "630e41ea",
   "metadata": {},
   "outputs": [
    {
     "data": {
      "text/plain": [
       "[1, 2, 34, 54, 2, 322, 12, 323]"
      ]
     },
     "execution_count": 17,
     "metadata": {},
     "output_type": "execute_result"
    }
   ],
   "source": [
    "removeEmptyList1([1,2,[],34,54,[],2,322,[],12,[],323])"
   ]
  },
  {
   "cell_type": "code",
   "execution_count": 18,
   "id": "2460f06c",
   "metadata": {},
   "outputs": [],
   "source": [
    "def removeEmptyList2(l):\n",
    "    try:\n",
    "        result = list(filter(None,l))\n",
    "        return result\n",
    "    except Exception as e:\n",
    "        print(\"Exception in function : \",e)"
   ]
  },
  {
   "cell_type": "code",
   "execution_count": 19,
   "id": "695d89e9",
   "metadata": {},
   "outputs": [
    {
     "data": {
      "text/plain": [
       "[1, 2, 34, 54, 2, 322, 12, 323]"
      ]
     },
     "execution_count": 19,
     "metadata": {},
     "output_type": "execute_result"
    }
   ],
   "source": [
    "removeEmptyList2([1,2,[],34,54,[],2,322,[],12,[],323])"
   ]
  },
  {
   "cell_type": "markdown",
   "id": "c8744b93",
   "metadata": {},
   "source": [
    "### 22. Cloning or Copying a list\n"
   ]
  },
  {
   "cell_type": "code",
   "execution_count": 21,
   "id": "0de1c36d",
   "metadata": {},
   "outputs": [],
   "source": [
    "#Slice\n",
    "def copy_list(l):\n",
    "    l_copy = l[:]\n",
    "    return l_copy\n"
   ]
  },
  {
   "cell_type": "code",
   "execution_count": 22,
   "id": "cd062079",
   "metadata": {},
   "outputs": [
    {
     "data": {
      "text/plain": [
       "[1, 2, 3, 4, 5, 6, 7]"
      ]
     },
     "execution_count": 22,
     "metadata": {},
     "output_type": "execute_result"
    }
   ],
   "source": [
    "copy_list([1,2,3,4,5,6,7])"
   ]
  },
  {
   "cell_type": "code",
   "execution_count": 24,
   "id": "97ef3e08",
   "metadata": {},
   "outputs": [],
   "source": [
    "#List comprehenssion\n",
    "def copy_list1(l):\n",
    "    l_copy = [i for i in l]\n",
    "    return l_copy\n"
   ]
  },
  {
   "cell_type": "code",
   "execution_count": 25,
   "id": "64aeff8c",
   "metadata": {},
   "outputs": [
    {
     "data": {
      "text/plain": [
       "[1, 4, 88, 4, 24, 46, 24, 67, 67, 24, 89, 3435]"
      ]
     },
     "execution_count": 25,
     "metadata": {},
     "output_type": "execute_result"
    }
   ],
   "source": [
    "copy_list1([1,4,88,4,24,46,24,67,67,24,89,3435])"
   ]
  },
  {
   "cell_type": "code",
   "execution_count": 42,
   "id": "b37965a0",
   "metadata": {},
   "outputs": [],
   "source": [
    "#extend()\n",
    "def copy_list2(l):\n",
    "    l_copy = []\n",
    "    l_copy.extend(l)\n",
    "    return l_copy\n"
   ]
  },
  {
   "cell_type": "code",
   "execution_count": 43,
   "id": "e95837a2",
   "metadata": {},
   "outputs": [
    {
     "data": {
      "text/plain": [
       "[1, 4, 5, 344]"
      ]
     },
     "execution_count": 43,
     "metadata": {},
     "output_type": "execute_result"
    }
   ],
   "source": [
    "copy_list2([1,4,5,344])"
   ]
  },
  {
   "cell_type": "code",
   "execution_count": 50,
   "id": "41f4ee3e",
   "metadata": {},
   "outputs": [],
   "source": [
    "#append()\n",
    "def copy_list3(l):\n",
    "    l_copy = []\n",
    "    for i in l:\n",
    "        l_copy.append(i)\n",
    "    return l_copy"
   ]
  },
  {
   "cell_type": "code",
   "execution_count": 51,
   "id": "f7a37242",
   "metadata": {},
   "outputs": [
    {
     "data": {
      "text/plain": [
       "[1, 2, 3, 4, 5, 6, 7, 8, 0]"
      ]
     },
     "execution_count": 51,
     "metadata": {},
     "output_type": "execute_result"
    }
   ],
   "source": [
    "copy_list3([1,2,3,4,5,6,7,8,0])"
   ]
  },
  {
   "cell_type": "code",
   "execution_count": 52,
   "id": "c3870657",
   "metadata": {},
   "outputs": [],
   "source": [
    "#list method\n",
    "def copy_list4(l):\n",
    "    l_copy = list(l)\n",
    "    return l_copy\n",
    "    "
   ]
  },
  {
   "cell_type": "code",
   "execution_count": 53,
   "id": "c8a7c334",
   "metadata": {},
   "outputs": [
    {
     "data": {
      "text/plain": [
       "[90, 98, 78]"
      ]
     },
     "execution_count": 53,
     "metadata": {},
     "output_type": "execute_result"
    }
   ],
   "source": [
    "copy_list4([90,98,78])"
   ]
  },
  {
   "cell_type": "code",
   "execution_count": 54,
   "id": "c906c502",
   "metadata": {},
   "outputs": [],
   "source": [
    "#copy method\n",
    "def copy_list5(l):\n",
    "    l_copy = []\n",
    "    l_copy = l.copy()\n",
    "    return l_copy\n"
   ]
  },
  {
   "cell_type": "code",
   "execution_count": 58,
   "id": "8c1f53e5",
   "metadata": {},
   "outputs": [
    {
     "data": {
      "text/plain": [
       "[2233, 4555, 'e', 't']"
      ]
     },
     "execution_count": 58,
     "metadata": {},
     "output_type": "execute_result"
    }
   ],
   "source": [
    "l = [2233,4555,'e','t']\n",
    "copy_list5(l)"
   ]
  },
  {
   "cell_type": "code",
   "execution_count": null,
   "id": "4e2bbad0",
   "metadata": {},
   "outputs": [],
   "source": []
  },
  {
   "cell_type": "code",
   "execution_count": 7,
   "id": "0be7bcd6",
   "metadata": {},
   "outputs": [],
   "source": [
    "l = [1,2,3,4]"
   ]
  },
  {
   "cell_type": "code",
   "execution_count": 8,
   "id": "63581828",
   "metadata": {},
   "outputs": [],
   "source": [
    "a = l.pop(2)"
   ]
  },
  {
   "cell_type": "code",
   "execution_count": 10,
   "id": "9c1ae521",
   "metadata": {},
   "outputs": [
    {
     "data": {
      "text/plain": [
       "8"
      ]
     },
     "execution_count": 10,
     "metadata": {},
     "output_type": "execute_result"
    }
   ],
   "source": [
    "a"
   ]
  },
  {
   "cell_type": "code",
   "execution_count": 11,
   "id": "62556ed0",
   "metadata": {},
   "outputs": [],
   "source": [
    "l1 = [1,2,3,4]"
   ]
  },
  {
   "cell_type": "code",
   "execution_count": 12,
   "id": "e2a7bfdd",
   "metadata": {},
   "outputs": [],
   "source": [
    "b = l1.remove(2)"
   ]
  },
  {
   "cell_type": "code",
   "execution_count": 13,
   "id": "843ee376",
   "metadata": {},
   "outputs": [
    {
     "name": "stdout",
     "output_type": "stream",
     "text": [
      "None\n"
     ]
    }
   ],
   "source": [
    "print(b)"
   ]
  },
  {
   "cell_type": "markdown",
   "id": "7561b736",
   "metadata": {},
   "source": [
    "### 23. Remove duplicate elements from list"
   ]
  },
  {
   "cell_type": "code",
   "execution_count": 26,
   "id": "fa9ef016",
   "metadata": {},
   "outputs": [],
   "source": [
    "def remove_dup(input_list):\n",
    "    try:\n",
    "        \n",
    "        final_list = []\n",
    "        for num in input_list:\n",
    "            if num not in final_list:\n",
    "                final_list.append(num)\n",
    "        return final_list\n",
    "    except Exception as e:\n",
    "        print(\"Exception : \",e)"
   ]
  },
  {
   "cell_type": "code",
   "execution_count": 27,
   "id": "4aa88f98",
   "metadata": {},
   "outputs": [
    {
     "data": {
      "text/plain": [
       "[1, 2, 4, 3, 5, 6]"
      ]
     },
     "execution_count": 27,
     "metadata": {},
     "output_type": "execute_result"
    }
   ],
   "source": [
    "remove_dup([1,2,2,4,2,4,2,2,3,1,2,3,5,6,1,2,4,5,5,3,3,2,2,3,4,5,2,3])"
   ]
  },
  {
   "cell_type": "code",
   "execution_count": 28,
   "id": "623e6296",
   "metadata": {},
   "outputs": [],
   "source": [
    "def remove_dup2(input_list):\n",
    "    return list(set(input_list))"
   ]
  },
  {
   "cell_type": "code",
   "execution_count": 29,
   "id": "82ec75d6",
   "metadata": {},
   "outputs": [
    {
     "data": {
      "text/plain": [
       "[1, 2, 3, 4, 5, 6]"
      ]
     },
     "execution_count": 29,
     "metadata": {},
     "output_type": "execute_result"
    }
   ],
   "source": [
    "remove_dup2([1,2,2,4,2,4,2,2,3,1,2,3,5,6,1,2,4,5,5,3,3,2,2,3,4,5,2,3])"
   ]
  },
  {
   "cell_type": "markdown",
   "id": "4c2080d0",
   "metadata": {},
   "source": [
    "### 24. Python | Remove empty tuples from a list\n"
   ]
  },
  {
   "cell_type": "code",
   "execution_count": 34,
   "id": "6ed0a6e1",
   "metadata": {},
   "outputs": [],
   "source": [
    "def removeEmptyTuple(l):\n",
    "    for i in l:\n",
    "        if type(i) == tuple:\n",
    "            if len(i) == 0:\n",
    "                l.remove(i)\n",
    "    return l"
   ]
  },
  {
   "cell_type": "code",
   "execution_count": 35,
   "id": "84584734",
   "metadata": {},
   "outputs": [
    {
     "data": {
      "text/plain": [
       "[7, 89, 66, 45, (224, 67), (456, 8, 990)]"
      ]
     },
     "execution_count": 35,
     "metadata": {},
     "output_type": "execute_result"
    }
   ],
   "source": [
    "removeEmptyTuple([(),7,89,66,45,(),(224,67),(),(456,8,990)])"
   ]
  },
  {
   "cell_type": "code",
   "execution_count": 49,
   "id": "13196d37",
   "metadata": {},
   "outputs": [],
   "source": [
    "def removeEmptyTuple1(l):\n",
    "    l = filter(None,l)\n",
    "    return [i for i in l]"
   ]
  },
  {
   "cell_type": "code",
   "execution_count": 50,
   "id": "d310960f",
   "metadata": {},
   "outputs": [
    {
     "data": {
      "text/plain": [
       "[7, 89, 66, 45, (224, 67), (456, 8, 990)]"
      ]
     },
     "execution_count": 50,
     "metadata": {},
     "output_type": "execute_result"
    }
   ],
   "source": [
    "removeEmptyTuple1([(),7,89,66,45,(),(224,67),(),(456,8,990)])"
   ]
  },
  {
   "cell_type": "markdown",
   "id": "6064cd44",
   "metadata": {},
   "source": [
    "### 25. Python | Count occurrences of an element in a list\n"
   ]
  },
  {
   "cell_type": "code",
   "execution_count": 66,
   "id": "a3d8f0d8",
   "metadata": {},
   "outputs": [],
   "source": [
    "def count(l):\n",
    "    count_list = []\n",
    "    temp = list(set(l))\n",
    "    for i in temp:\n",
    "        count = l.count(i)\n",
    "        count_list.append(count)\n",
    "    return  (temp,count_list)"
   ]
  },
  {
   "cell_type": "code",
   "execution_count": 67,
   "id": "38c17ccc",
   "metadata": {},
   "outputs": [
    {
     "data": {
      "text/plain": [
       "([1, 2, 3, 4, 5, 6, 7, 67], [3, 2, 5, 4, 2, 1, 1, 1])"
      ]
     },
     "execution_count": 67,
     "metadata": {},
     "output_type": "execute_result"
    }
   ],
   "source": [
    "count([1,2,3,4,1,3,3,1,2,4,5,6,7,4,3,5,67,4,3])"
   ]
  },
  {
   "cell_type": "code",
   "execution_count": null,
   "id": "c6111380",
   "metadata": {},
   "outputs": [],
   "source": []
  },
  {
   "cell_type": "code",
   "execution_count": null,
   "id": "a77bcefb",
   "metadata": {},
   "outputs": [],
   "source": []
  },
  {
   "cell_type": "code",
   "execution_count": null,
   "id": "1583d175",
   "metadata": {},
   "outputs": [],
   "source": []
  },
  {
   "cell_type": "code",
   "execution_count": null,
   "id": "fedbe776",
   "metadata": {},
   "outputs": [],
   "source": []
  },
  {
   "cell_type": "code",
   "execution_count": 2,
   "id": "76e32a8f",
   "metadata": {},
   "outputs": [],
   "source": [
    "def Length_of_string(n):\n",
    "    \"\"\"function returns length of string without using inbuilt function\"\"\"\n",
    "    l=[]\n",
    "    if type(n)==str:\n",
    "        for i,j in enumerate(n):\n",
    "            l.append(i)\n",
    "    else:\n",
    "        print(\"you have not entered string\")\n",
    "    return max(l)+1"
   ]
  },
  {
   "cell_type": "code",
   "execution_count": 3,
   "id": "b48195de",
   "metadata": {},
   "outputs": [
    {
     "data": {
      "text/plain": [
       "6"
      ]
     },
     "execution_count": 3,
     "metadata": {},
     "output_type": "execute_result"
    }
   ],
   "source": [
    "Length_of_string('ashish')"
   ]
  },
  {
   "cell_type": "code",
   "execution_count": 24,
   "id": "b80423be",
   "metadata": {},
   "outputs": [],
   "source": [
    "def lenght_string(n):\n",
    "    try:\n",
    "        count = 0\n",
    "        for i in n:\n",
    "            count += 1\n",
    "        return count\n",
    "    except Exception as e:\n",
    "        print(\"Error in length_string function\\nError msg: \",e)"
   ]
  },
  {
   "cell_type": "code",
   "execution_count": 25,
   "id": "34bd7655",
   "metadata": {},
   "outputs": [
    {
     "data": {
      "text/plain": [
       "6"
      ]
     },
     "execution_count": 25,
     "metadata": {},
     "output_type": "execute_result"
    }
   ],
   "source": [
    "lenght_string('ashish')"
   ]
  },
  {
   "cell_type": "code",
   "execution_count": 23,
   "id": "f17ae5d6",
   "metadata": {},
   "outputs": [
    {
     "name": "stdout",
     "output_type": "stream",
     "text": [
      "Error in length_string function\n",
      "Error msg:  'int' object is not iterable\n"
     ]
    }
   ],
   "source": [
    "lenght_string(9009)"
   ]
  },
  {
   "cell_type": "code",
   "execution_count": null,
   "id": "59ca0c35",
   "metadata": {},
   "outputs": [],
   "source": []
  },
  {
   "cell_type": "code",
   "execution_count": 36,
   "id": "36b37122",
   "metadata": {},
   "outputs": [],
   "source": [
    "def check_div(n):\n",
    "    s = str(n)\n",
    "    digit_sum = 0\n",
    "    for i in range(len(s)):\n",
    "        digit_sum = digit_sum + int(s[i])\n",
    "    if digit_sum%3 == 0:\n",
    "        print(\"Number is divisible by 3\")\n",
    "    else:\n",
    "        print(\"Number is not divisible by 3\")\n",
    "        "
   ]
  },
  {
   "cell_type": "code",
   "execution_count": 39,
   "id": "f9dd2d1b",
   "metadata": {},
   "outputs": [
    {
     "name": "stdout",
     "output_type": "stream",
     "text": [
      "Number is divisible by 3\n"
     ]
    }
   ],
   "source": [
    "check_div(18)"
   ]
  },
  {
   "cell_type": "code",
   "execution_count": null,
   "id": "f4f96d72",
   "metadata": {},
   "outputs": [],
   "source": []
  }
 ],
 "metadata": {
  "kernelspec": {
   "display_name": "Python 3 (ipykernel)",
   "language": "python",
   "name": "python3"
  },
  "language_info": {
   "codemirror_mode": {
    "name": "ipython",
    "version": 3
   },
   "file_extension": ".py",
   "mimetype": "text/x-python",
   "name": "python",
   "nbconvert_exporter": "python",
   "pygments_lexer": "ipython3",
   "version": "3.9.7"
  }
 },
 "nbformat": 4,
 "nbformat_minor": 5
}
