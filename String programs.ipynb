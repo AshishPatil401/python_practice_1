{
 "cells": [
  {
   "cell_type": "markdown",
   "id": "1aff5432",
   "metadata": {},
   "source": [
    "### 1. Python program to check if a string is palindrome or not\n"
   ]
  },
  {
   "cell_type": "code",
   "execution_count": 1,
   "id": "e1b00749",
   "metadata": {},
   "outputs": [],
   "source": [
    "def checkPalindrome1(s):\n",
    "    temp = s[::-1]\n",
    "    if s == temp:\n",
    "        return True\n",
    "    else:\n",
    "        return False"
   ]
  },
  {
   "cell_type": "code",
   "execution_count": 3,
   "id": "0e63fd9b",
   "metadata": {},
   "outputs": [
    {
     "data": {
      "text/plain": [
       "True"
      ]
     },
     "execution_count": 3,
     "metadata": {},
     "output_type": "execute_result"
    }
   ],
   "source": [
    "checkPalindrome1(\"malayalam\")"
   ]
  },
  {
   "cell_type": "code",
   "execution_count": 7,
   "id": "4dc116d4",
   "metadata": {},
   "outputs": [],
   "source": [
    "def checkPalindrome2(s):\n",
    "    return s == s[::-1]"
   ]
  },
  {
   "cell_type": "code",
   "execution_count": 6,
   "id": "59e6a09f",
   "metadata": {},
   "outputs": [
    {
     "data": {
      "text/plain": [
       "True"
      ]
     },
     "execution_count": 6,
     "metadata": {},
     "output_type": "execute_result"
    }
   ],
   "source": [
    "checkPalindrome2(\"eye\")"
   ]
  },
  {
   "cell_type": "markdown",
   "id": "d76ca546",
   "metadata": {},
   "source": [
    "### 2.Python program to check whether the string is Symmetrical or Palindrome\n"
   ]
  },
  {
   "cell_type": "code",
   "execution_count": null,
   "id": "96f3315c",
   "metadata": {},
   "outputs": [],
   "source": []
  },
  {
   "cell_type": "code",
   "execution_count": null,
   "id": "2af5b05c",
   "metadata": {},
   "outputs": [],
   "source": []
  },
  {
   "cell_type": "markdown",
   "id": "6f4ca2e2",
   "metadata": {},
   "source": [
    "### 3. Reverse words in a given String in Python\n"
   ]
  },
  {
   "cell_type": "code",
   "execution_count": 11,
   "id": "0c2d3c0b",
   "metadata": {},
   "outputs": [],
   "source": [
    "def stringReverse1(s):\n",
    "    try:\n",
    "        return s[::-1]\n",
    "    except Exception as e:\n",
    "        print(\"Exception : \",e)\n",
    "    "
   ]
  },
  {
   "cell_type": "code",
   "execution_count": 12,
   "id": "e6f0d6f2",
   "metadata": {},
   "outputs": [
    {
     "data": {
      "text/plain": [
       "'hsihsa'"
      ]
     },
     "execution_count": 12,
     "metadata": {},
     "output_type": "execute_result"
    }
   ],
   "source": [
    "stringReverse1(\"ashish\")"
   ]
  },
  {
   "cell_type": "code",
   "execution_count": 17,
   "id": "5c69a500",
   "metadata": {},
   "outputs": [],
   "source": [
    "def stringReverse2(s):\n",
    "    try:\n",
    "        for i in range(1,len(s)+1):\n",
    "            print(s[-i],end = \"\")\n",
    "    except Exception as e:\n",
    "        print(\"Exception : \",e)\n",
    "    "
   ]
  },
  {
   "cell_type": "code",
   "execution_count": 18,
   "id": "a192704c",
   "metadata": {},
   "outputs": [
    {
     "name": "stdout",
     "output_type": "stream",
     "text": [
      "hsihsA"
     ]
    }
   ],
   "source": [
    "stringReverse2(\"Ashish\")"
   ]
  },
  {
   "cell_type": "markdown",
   "id": "542a26f0",
   "metadata": {},
   "source": [
    "### 4. Ways to remove i’th character from string in Python\n"
   ]
  },
  {
   "cell_type": "code",
   "execution_count": 5,
   "id": "4864d2c6",
   "metadata": {},
   "outputs": [],
   "source": [
    "def remove_char(test_str,char,char_r,occurrence):\n",
    "    try:\n",
    "        temp = test_str.replace(char,char_r,occurrence)\n",
    "        return temp\n",
    "    except Exception as e:\n",
    "        print(\"Exception : \",e)"
   ]
  },
  {
   "cell_type": "code",
   "execution_count": 8,
   "id": "de2485e6",
   "metadata": {},
   "outputs": [
    {
     "data": {
      "text/plain": [
       "'asish'"
      ]
     },
     "execution_count": 8,
     "metadata": {},
     "output_type": "execute_result"
    }
   ],
   "source": [
    "remove_char('ashish','h','',1)"
   ]
  },
  {
   "cell_type": "code",
   "execution_count": 14,
   "id": "dd4c85e6",
   "metadata": {},
   "outputs": [],
   "source": [
    "def remove_char1(test_str, index_1):\n",
    "    try:\n",
    "        new_str = test_str[:index_1-1] + test_str[index_1:]\n",
    "        return new_str\n",
    "    except Exception as e:\n",
    "        print(\"Exception : \",e)"
   ]
  },
  {
   "cell_type": "code",
   "execution_count": 15,
   "id": "7d9e717e",
   "metadata": {},
   "outputs": [
    {
     "data": {
      "text/plain": [
       "'ashispatil'"
      ]
     },
     "execution_count": 15,
     "metadata": {},
     "output_type": "execute_result"
    }
   ],
   "source": [
    "remove_char1(\"ashishpatil\", 6)"
   ]
  },
  {
   "cell_type": "markdown",
   "id": "d7da4995",
   "metadata": {},
   "source": [
    "### 5. Python | Check if a Substring is Present in a Given String\n"
   ]
  },
  {
   "cell_type": "code",
   "execution_count": 16,
   "id": "87fcea8c",
   "metadata": {},
   "outputs": [],
   "source": [
    "def check_substring(main_str, sub_str):\n",
    "    try:\n",
    "        if sub_str in main_str:\n",
    "            return True\n",
    "        else:\n",
    "            return False\n",
    "    except Exception as e:\n",
    "        print(\"Exception : \",e)"
   ]
  },
  {
   "cell_type": "code",
   "execution_count": 17,
   "id": "e7846360",
   "metadata": {},
   "outputs": [
    {
     "data": {
      "text/plain": [
       "True"
      ]
     },
     "execution_count": 17,
     "metadata": {},
     "output_type": "execute_result"
    }
   ],
   "source": [
    "check_substring('geeksforgeeks','geek')"
   ]
  },
  {
   "cell_type": "code",
   "execution_count": 18,
   "id": "7f2ce3b1",
   "metadata": {},
   "outputs": [
    {
     "data": {
      "text/plain": [
       "False"
      ]
     },
     "execution_count": 18,
     "metadata": {},
     "output_type": "execute_result"
    }
   ],
   "source": [
    "check_substring('geeksforgeeks','greek')"
   ]
  },
  {
   "cell_type": "code",
   "execution_count": 26,
   "id": "8e434b7d",
   "metadata": {},
   "outputs": [],
   "source": [
    "#FIND METHOD\n",
    "\n",
    "def check_substring1(main_str, sub_str):\n",
    "    try:\n",
    "        if (main_str.find(sub_str) == -1):\n",
    "            return False \n",
    "        else:\n",
    "            return True\n",
    "    except Exception as e:\n",
    "        print(\"Exception : \",e)"
   ]
  },
  {
   "cell_type": "code",
   "execution_count": 27,
   "id": "30b79629",
   "metadata": {},
   "outputs": [
    {
     "data": {
      "text/plain": [
       "True"
      ]
     },
     "execution_count": 27,
     "metadata": {},
     "output_type": "execute_result"
    }
   ],
   "source": [
    "check_substring1(\"ashishPATIL\",\"ish\")"
   ]
  },
  {
   "cell_type": "code",
   "execution_count": 28,
   "id": "f45086bb",
   "metadata": {},
   "outputs": [],
   "source": [
    "#COUNT METHOD\n",
    "\n",
    "def check_substring2(main_str, sub_str):\n",
    "    try:\n",
    "        if (main_str.count(sub_str)) > 0:\n",
    "            return True \n",
    "        else:\n",
    "            return False \n",
    "    except Exception as e:\n",
    "        print(\"Exception : \", e)\n",
    "    "
   ]
  },
  {
   "cell_type": "code",
   "execution_count": 31,
   "id": "f720d112",
   "metadata": {},
   "outputs": [
    {
     "data": {
      "text/plain": [
       "True"
      ]
     },
     "execution_count": 31,
     "metadata": {},
     "output_type": "execute_result"
    }
   ],
   "source": [
    "check_substring2(\"geeksforgeeks\",\"geeks\")"
   ]
  },
  {
   "cell_type": "code",
   "execution_count": 35,
   "id": "4681fa6b",
   "metadata": {},
   "outputs": [],
   "source": [
    "#REGULAR EXPRESSION\n",
    "import re\n",
    "\n",
    "def check_substring3(main_str, sub_str):\n",
    "    try:\n",
    "        if re.search(sub_str,main_str):\n",
    "            return True\n",
    "        else:\n",
    "            return False\n",
    "    except Exception as e:\n",
    "        print(\"Exception : \", e)\n",
    "    "
   ]
  },
  {
   "cell_type": "code",
   "execution_count": 36,
   "id": "f047b3a1",
   "metadata": {},
   "outputs": [
    {
     "data": {
      "text/plain": [
       "True"
      ]
     },
     "execution_count": 36,
     "metadata": {},
     "output_type": "execute_result"
    }
   ],
   "source": [
    "check_substring3(\"A geek in need is a geek indeed\", \"need\")"
   ]
  },
  {
   "cell_type": "markdown",
   "id": "f37daf86",
   "metadata": {},
   "source": [
    "### 6. Python – Words Frequency in String Shorthands\n"
   ]
  },
  {
   "cell_type": "code",
   "execution_count": 41,
   "id": "8be11015",
   "metadata": {},
   "outputs": [],
   "source": [
    "def worldFrequrncyCount(main_str,sub_str):\n",
    "    try:\n",
    "        if sub_str in main_str:\n",
    "            return main_str.count(sub_str)\n",
    "        else:\n",
    "            return 0\n",
    "    except Exception as e:\n",
    "        print(\"Exception : \",e)"
   ]
  },
  {
   "cell_type": "code",
   "execution_count": 43,
   "id": "5ba3bbb6",
   "metadata": {},
   "outputs": [
    {
     "data": {
      "text/plain": [
       "2"
      ]
     },
     "execution_count": 43,
     "metadata": {},
     "output_type": "execute_result"
    }
   ],
   "source": [
    "worldFrequrncyCount(\"A geek in need is a geek indeed \", \"geek\")"
   ]
  },
  {
   "cell_type": "markdown",
   "id": "e6d0cffa",
   "metadata": {},
   "source": [
    "### 7. Python – Convert Snake case to Pascal case\n"
   ]
  },
  {
   "cell_type": "code",
   "execution_count": 19,
   "id": "06f9cfca",
   "metadata": {},
   "outputs": [],
   "source": [
    "import string\n",
    "\n",
    "def convertString(s):\n",
    "    for i in string.punctuation:\n",
    "        if i in s:\n",
    "            s1 = s.replace(i, \" \").title().replace(\" \", \"\")\n",
    "    return s1"
   ]
  },
  {
   "cell_type": "code",
   "execution_count": 26,
   "id": "22443bcd",
   "metadata": {},
   "outputs": [
    {
     "data": {
      "text/plain": [
       "'GeeksForGeeksIsTheBest'"
      ]
     },
     "execution_count": 26,
     "metadata": {},
     "output_type": "execute_result"
    }
   ],
   "source": [
    "convertString(\"geeks_for_geeks is the best\")"
   ]
  },
  {
   "cell_type": "markdown",
   "id": "119a43bd",
   "metadata": {},
   "source": [
    "### 8. Find length of a string in python (4 ways)\n"
   ]
  },
  {
   "cell_type": "code",
   "execution_count": 27,
   "id": "77f34956",
   "metadata": {},
   "outputs": [],
   "source": [
    "def length(s):\n",
    "    try:\n",
    "        c = 0\n",
    "        for i in s:\n",
    "            c = c+1\n",
    "        return c\n",
    "    except Exception as e:\n",
    "        print(\"Exception : \",e)\n",
    "        "
   ]
  },
  {
   "cell_type": "code",
   "execution_count": 28,
   "id": "adcfe503",
   "metadata": {},
   "outputs": [
    {
     "data": {
      "text/plain": [
       "11"
      ]
     },
     "execution_count": 28,
     "metadata": {},
     "output_type": "execute_result"
    }
   ],
   "source": [
    "length(\"ashishpatil\")"
   ]
  },
  {
   "cell_type": "code",
   "execution_count": 30,
   "id": "a4e12226",
   "metadata": {},
   "outputs": [],
   "source": [
    "def length1(s):\n",
    "    try:\n",
    "        return len(s)\n",
    "    except Exception as e:\n",
    "        print(\"Exception : \",e)"
   ]
  },
  {
   "cell_type": "code",
   "execution_count": 31,
   "id": "c9899c7d",
   "metadata": {},
   "outputs": [
    {
     "data": {
      "text/plain": [
       "11"
      ]
     },
     "execution_count": 31,
     "metadata": {},
     "output_type": "execute_result"
    }
   ],
   "source": [
    "length1(\"ashishpatil\")"
   ]
  },
  {
   "cell_type": "code",
   "execution_count": null,
   "id": "7795d531",
   "metadata": {},
   "outputs": [],
   "source": [
    "def length2(s):\n",
    "    try:\n",
    "        counter = 0\n",
    "        while i > counter:\n",
    "            "
   ]
  },
  {
   "cell_type": "markdown",
   "id": "0dff0b53",
   "metadata": {},
   "source": [
    "### 9. Python program to print even length words in a string\n"
   ]
  },
  {
   "cell_type": "code",
   "execution_count": 32,
   "id": "036144d0",
   "metadata": {},
   "outputs": [],
   "source": [
    "def evenLengthWords(s):\n",
    "    even_word_list = []\n",
    "    test_str = s.split(\" \")\n",
    "    for i in test_str:\n",
    "        if len(i)%2 == 0:\n",
    "            even_word_list.append(i)\n",
    "    return even_word_list\n",
    "            "
   ]
  },
  {
   "cell_type": "code",
   "execution_count": 33,
   "id": "8d44cbca",
   "metadata": {},
   "outputs": [
    {
     "data": {
      "text/plain": [
       "['ashish', 'satara']"
      ]
     },
     "execution_count": 33,
     "metadata": {},
     "output_type": "execute_result"
    }
   ],
   "source": [
    "evenLengthWords('ashish patil shere karad satara')"
   ]
  },
  {
   "cell_type": "markdown",
   "id": "5d5828c4",
   "metadata": {},
   "source": [
    "### 10. Python | Program to accept the strings which contains all vowels\n"
   ]
  },
  {
   "cell_type": "code",
   "execution_count": 43,
   "id": "a1121059",
   "metadata": {},
   "outputs": [],
   "source": [
    "def checkVowels(string):\n",
    "    try:\n",
    "        string = string.lower()\n",
    "        vowels = set(\"aeiou\")\n",
    "        s = set({})\n",
    "\n",
    "        for char in string:\n",
    "            if char in vowels:\n",
    "                s.add(char)\n",
    "            else:\n",
    "                pass\n",
    "\n",
    "        if len(s) == len(vowels):\n",
    "            print(\"Accepted\")\n",
    "        else:\n",
    "            print(\"Not accepted\")\n",
    "    except Exception as e:\n",
    "        print(\"Exception : \",e)"
   ]
  },
  {
   "cell_type": "code",
   "execution_count": 44,
   "id": "fce4faed",
   "metadata": {},
   "outputs": [
    {
     "name": "stdout",
     "output_type": "stream",
     "text": [
      "Accepted\n"
     ]
    }
   ],
   "source": [
    "checkVowels('AEIOUaeiou')"
   ]
  },
  {
   "cell_type": "code",
   "execution_count": 45,
   "id": "dc72559d",
   "metadata": {},
   "outputs": [],
   "source": [
    "def checkVowels2(string):\n",
    "    try:\n",
    "        string = string.replace(\" \",\"\")\n",
    "        string = string.lower()\n",
    "        \n",
    "        vowel = [string.count('a'),string.count('e'),string.count('i'),string.count('o'),string.count('u')]\n",
    "        \n",
    "        if vowel.count(0) > 0:\n",
    "            print(\"Not accepted\")\n",
    "        else:\n",
    "            print(\"Accepted\")\n",
    "    except Exception as e:\n",
    "        print(\"Exception : \",e)\n",
    "        "
   ]
  },
  {
   "cell_type": "code",
   "execution_count": 46,
   "id": "960a8803",
   "metadata": {},
   "outputs": [
    {
     "name": "stdout",
     "output_type": "stream",
     "text": [
      "Accepted\n"
     ]
    }
   ],
   "source": [
    "checkVowels2('AEIOUaeiou')"
   ]
  },
  {
   "cell_type": "code",
   "execution_count": 47,
   "id": "5579c772",
   "metadata": {},
   "outputs": [
    {
     "name": "stdout",
     "output_type": "stream",
     "text": [
      "Not accepted\n"
     ]
    }
   ],
   "source": [
    "checkVowels2('1323aeio')"
   ]
  },
  {
   "cell_type": "markdown",
   "id": "9b82fb57",
   "metadata": {},
   "source": [
    "### 11. Python | Count the Number of matching characters in a pair of string\n"
   ]
  },
  {
   "cell_type": "code",
   "execution_count": 53,
   "id": "3dd55700",
   "metadata": {},
   "outputs": [],
   "source": [
    "def countChar(str1,str2):\n",
    "    try:\n",
    "        set_str1 = set(str1)\n",
    "        set_str2 = set(str2)\n",
    "        matched_char = set_str1 & set_str2\n",
    "        return len(matched_char)\n",
    "    except Exception as e:\n",
    "        print(\"Exception : \",e)\n",
    "    "
   ]
  },
  {
   "cell_type": "code",
   "execution_count": 54,
   "id": "72032147",
   "metadata": {},
   "outputs": [
    {
     "data": {
      "text/plain": [
       "5"
      ]
     },
     "execution_count": 54,
     "metadata": {},
     "output_type": "execute_result"
    }
   ],
   "source": [
    "countChar(\"GeeksforGeeks\",\"Stackoverflow\")"
   ]
  },
  {
   "cell_type": "markdown",
   "id": "9a632dcd",
   "metadata": {},
   "source": [
    "### 12. Remove all duplicates from a given string in Python\n"
   ]
  },
  {
   "cell_type": "code",
   "execution_count": 72,
   "id": "8fea6e8c",
   "metadata": {},
   "outputs": [],
   "source": [
    "def removeDuplicate(s):\n",
    "    try:\n",
    "        temp = set(s)\n",
    "        res_str = ''\n",
    "        for i in temp:\n",
    "            res_str = res_str + i\n",
    "        return res_str\n",
    "    except Exception as e:\n",
    "        print(\"Exception : \",e)\n",
    "    "
   ]
  },
  {
   "cell_type": "code",
   "execution_count": 73,
   "id": "5dd1c6e7",
   "metadata": {},
   "outputs": [
    {
     "data": {
      "text/plain": [
       "'ltapshi'"
      ]
     },
     "execution_count": 73,
     "metadata": {},
     "output_type": "execute_result"
    }
   ],
   "source": [
    "removeDuplicate('patilashish')"
   ]
  },
  {
   "cell_type": "code",
   "execution_count": 75,
   "id": "3acb3062",
   "metadata": {},
   "outputs": [],
   "source": [
    "def removeDuplicate1(s):\n",
    "    try:\n",
    "        return \"\".join(set(s))\n",
    "    except Exception as e:\n",
    "        print(\"Exception : \",e)"
   ]
  },
  {
   "cell_type": "code",
   "execution_count": 76,
   "id": "7f9d88c0",
   "metadata": {},
   "outputs": [
    {
     "data": {
      "text/plain": [
       "'ltapshi'"
      ]
     },
     "execution_count": 76,
     "metadata": {},
     "output_type": "execute_result"
    }
   ],
   "source": [
    "removeDuplicate1('patilashish')"
   ]
  },
  {
   "cell_type": "code",
   "execution_count": 79,
   "id": "f78fbdb0",
   "metadata": {},
   "outputs": [],
   "source": [
    "from collections import OrderedDict\n",
    "\n",
    "def removeDuplicate2(s):\n",
    "    try:\n",
    "        return \"\".join(OrderedDict.fromkeys(s))\n",
    "    except Exception as e:\n",
    "        print(\"Exception : \",e)"
   ]
  },
  {
   "cell_type": "code",
   "execution_count": 80,
   "id": "adc2203e",
   "metadata": {},
   "outputs": [
    {
     "data": {
      "text/plain": [
       "'patilsh'"
      ]
     },
     "execution_count": 80,
     "metadata": {},
     "output_type": "execute_result"
    }
   ],
   "source": [
    "removeDuplicate2('patilashish')"
   ]
  },
  {
   "cell_type": "code",
   "execution_count": 81,
   "id": "aecdf1b5",
   "metadata": {},
   "outputs": [],
   "source": [
    "def removeDuplicate3(s):\n",
    "    temp = \"\"\n",
    "    for i in s:\n",
    "        if i in temp:\n",
    "            pass\n",
    "        else:\n",
    "            temp = temp + i\n",
    "    return temp         "
   ]
  },
  {
   "cell_type": "code",
   "execution_count": 82,
   "id": "23ab4271",
   "metadata": {},
   "outputs": [
    {
     "data": {
      "text/plain": [
       "'ashi'"
      ]
     },
     "execution_count": 82,
     "metadata": {},
     "output_type": "execute_result"
    }
   ],
   "source": [
    "removeDuplicate3('ashish')"
   ]
  },
  {
   "cell_type": "markdown",
   "id": "d7d04c29",
   "metadata": {},
   "source": [
    "### 13. Python – Least Frequent Character in String\n"
   ]
  },
  {
   "cell_type": "code",
   "execution_count": 84,
   "id": "3f9fd84c",
   "metadata": {},
   "outputs": [],
   "source": [
    "def minFreqWord(s):\n",
    "    "
   ]
  },
  {
   "cell_type": "markdown",
   "id": "a85e4c6f",
   "metadata": {},
   "source": [
    "### 14. "
   ]
  },
  {
   "cell_type": "code",
   "execution_count": null,
   "id": "b5e4c375",
   "metadata": {},
   "outputs": [],
   "source": []
  },
  {
   "cell_type": "markdown",
   "id": "933d6f7d",
   "metadata": {},
   "source": [
    "### 15. "
   ]
  },
  {
   "cell_type": "code",
   "execution_count": null,
   "id": "81fd1630",
   "metadata": {},
   "outputs": [],
   "source": []
  },
  {
   "cell_type": "markdown",
   "id": "7e7e7012",
   "metadata": {},
   "source": [
    "### 16."
   ]
  },
  {
   "cell_type": "code",
   "execution_count": null,
   "id": "e054bf0a",
   "metadata": {},
   "outputs": [],
   "source": []
  },
  {
   "cell_type": "markdown",
   "id": "37f01e33",
   "metadata": {},
   "source": [
    "### 17. Find words which are greater than given length k\n"
   ]
  },
  {
   "cell_type": "code",
   "execution_count": 98,
   "id": "65e16928",
   "metadata": {},
   "outputs": [],
   "source": [
    "def searchLength(s,k):\n",
    "    word_list = s.split(' ')\n",
    "    result = []\n",
    "    for i in word_list:\n",
    "        if len(i) > k:\n",
    "            result.append(i)\n",
    "    return result"
   ]
  },
  {
   "cell_type": "code",
   "execution_count": 99,
   "id": "c6709aa3",
   "metadata": {},
   "outputs": [
    {
     "data": {
      "text/plain": [
       "['platform', 'coding', 'practice']"
      ]
     },
     "execution_count": 99,
     "metadata": {},
     "output_type": "execute_result"
    }
   ],
   "source": [
    "searchLength(\"Geeks for Geeks is best platform for coding practice\", 5)"
   ]
  },
  {
   "cell_type": "markdown",
   "id": "c883ed0d",
   "metadata": {},
   "source": [
    "### 18. Python program for removing i-th character from a string\n"
   ]
  },
  {
   "cell_type": "code",
   "execution_count": 101,
   "id": "83ada79f",
   "metadata": {},
   "outputs": [],
   "source": [
    "def removeChar(string,index):\n",
    "    return string[0:index]+string[index+1:]\n",
    "    "
   ]
  },
  {
   "cell_type": "code",
   "execution_count": 110,
   "id": "01d9c33e",
   "metadata": {},
   "outputs": [
    {
     "data": {
      "text/plain": [
       "'Abbcd'"
      ]
     },
     "execution_count": 110,
     "metadata": {},
     "output_type": "execute_result"
    }
   ],
   "source": [
    "removeChar('Abbbcd',1)"
   ]
  },
  {
   "cell_type": "code",
   "execution_count": null,
   "id": "2e32a549",
   "metadata": {},
   "outputs": [],
   "source": []
  },
  {
   "cell_type": "code",
   "execution_count": null,
   "id": "732abd86",
   "metadata": {},
   "outputs": [],
   "source": []
  },
  {
   "cell_type": "code",
   "execution_count": 10,
   "id": "402c1593",
   "metadata": {},
   "outputs": [],
   "source": [
    "l = [4,123,32,432,23,24,23]"
   ]
  },
  {
   "cell_type": "code",
   "execution_count": 2,
   "id": "fce9088b",
   "metadata": {},
   "outputs": [
    {
     "data": {
      "text/plain": [
       "24"
      ]
     },
     "execution_count": 2,
     "metadata": {},
     "output_type": "execute_result"
    }
   ],
   "source": [
    "l.pop()"
   ]
  },
  {
   "cell_type": "code",
   "execution_count": 3,
   "id": "6550998e",
   "metadata": {},
   "outputs": [
    {
     "data": {
      "text/plain": [
       "4"
      ]
     },
     "execution_count": 3,
     "metadata": {},
     "output_type": "execute_result"
    }
   ],
   "source": [
    "l.pop(0)"
   ]
  },
  {
   "cell_type": "code",
   "execution_count": 4,
   "id": "9471d8c0",
   "metadata": {},
   "outputs": [
    {
     "data": {
      "text/plain": [
       "[123, 32, 432, 23]"
      ]
     },
     "execution_count": 4,
     "metadata": {},
     "output_type": "execute_result"
    }
   ],
   "source": [
    "l"
   ]
  },
  {
   "cell_type": "code",
   "execution_count": 5,
   "id": "a0f3517a",
   "metadata": {},
   "outputs": [
    {
     "data": {
      "text/plain": [
       "432"
      ]
     },
     "execution_count": 5,
     "metadata": {},
     "output_type": "execute_result"
    }
   ],
   "source": [
    "l.pop(2)"
   ]
  },
  {
   "cell_type": "code",
   "execution_count": 7,
   "id": "de7a01d3",
   "metadata": {},
   "outputs": [
    {
     "data": {
      "text/plain": [
       "[4, 123, 32, 432, 23, 24]"
      ]
     },
     "execution_count": 7,
     "metadata": {},
     "output_type": "execute_result"
    }
   ],
   "source": [
    "l"
   ]
  },
  {
   "cell_type": "code",
   "execution_count": 11,
   "id": "09cbe91f",
   "metadata": {},
   "outputs": [],
   "source": [
    "l.remove(23)"
   ]
  },
  {
   "cell_type": "code",
   "execution_count": 12,
   "id": "1cc5f5a1",
   "metadata": {},
   "outputs": [
    {
     "data": {
      "text/plain": [
       "[4, 123, 32, 432, 24, 23]"
      ]
     },
     "execution_count": 12,
     "metadata": {},
     "output_type": "execute_result"
    }
   ],
   "source": [
    "l"
   ]
  },
  {
   "cell_type": "code",
   "execution_count": 13,
   "id": "7f6f5ef8",
   "metadata": {},
   "outputs": [],
   "source": [
    "l.append(90)"
   ]
  },
  {
   "cell_type": "code",
   "execution_count": 14,
   "id": "9b2a2250",
   "metadata": {},
   "outputs": [
    {
     "data": {
      "text/plain": [
       "[4, 123, 32, 432, 24, 23, 90]"
      ]
     },
     "execution_count": 14,
     "metadata": {},
     "output_type": "execute_result"
    }
   ],
   "source": [
    "l"
   ]
  },
  {
   "cell_type": "code",
   "execution_count": 16,
   "id": "076593b3",
   "metadata": {},
   "outputs": [],
   "source": [
    "l.extend([90])"
   ]
  },
  {
   "cell_type": "code",
   "execution_count": 17,
   "id": "cdff1524",
   "metadata": {},
   "outputs": [
    {
     "data": {
      "text/plain": [
       "[4, 123, 32, 432, 24, 23, 90, 90]"
      ]
     },
     "execution_count": 17,
     "metadata": {},
     "output_type": "execute_result"
    }
   ],
   "source": [
    "l"
   ]
  },
  {
   "cell_type": "code",
   "execution_count": 18,
   "id": "a19ab264",
   "metadata": {},
   "outputs": [],
   "source": [
    "s = \"    f     \""
   ]
  },
  {
   "cell_type": "code",
   "execution_count": 19,
   "id": "3889fcae",
   "metadata": {},
   "outputs": [
    {
     "data": {
      "text/plain": [
       "'    f     '"
      ]
     },
     "execution_count": 19,
     "metadata": {},
     "output_type": "execute_result"
    }
   ],
   "source": [
    "s"
   ]
  },
  {
   "cell_type": "code",
   "execution_count": 22,
   "id": "77718bbe",
   "metadata": {},
   "outputs": [],
   "source": [
    "a = s.strip()"
   ]
  },
  {
   "cell_type": "code",
   "execution_count": 23,
   "id": "26616e06",
   "metadata": {},
   "outputs": [
    {
     "data": {
      "text/plain": [
       "'f'"
      ]
     },
     "execution_count": 23,
     "metadata": {},
     "output_type": "execute_result"
    }
   ],
   "source": []
  },
  {
   "cell_type": "code",
   "execution_count": null,
   "id": "31c2584c",
   "metadata": {},
   "outputs": [],
   "source": [
    "df"
   ]
  }
 ],
 "metadata": {
  "kernelspec": {
   "display_name": "Python 3 (ipykernel)",
   "language": "python",
   "name": "python3"
  },
  "language_info": {
   "codemirror_mode": {
    "name": "ipython",
    "version": 3
   },
   "file_extension": ".py",
   "mimetype": "text/x-python",
   "name": "python",
   "nbconvert_exporter": "python",
   "pygments_lexer": "ipython3",
   "version": "3.9.7"
  }
 },
 "nbformat": 4,
 "nbformat_minor": 5
}
