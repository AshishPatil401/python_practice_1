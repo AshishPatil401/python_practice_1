{
 "cells": [
  {
   "cell_type": "code",
   "execution_count": 1,
   "id": "2ac3634f",
   "metadata": {},
   "outputs": [],
   "source": [
    "#Input\n",
    "s1 = \"pankaj is good boy\"\n",
    "s2 = \"pankaj is smart boy\"\n",
    "\n",
    "\n",
    "#Output\n",
    "l = ['pankaj','is','boy']"
   ]
  },
  {
   "cell_type": "code",
   "execution_count": 9,
   "id": "a84c8cf0",
   "metadata": {},
   "outputs": [
    {
     "data": {
      "text/plain": [
       "['pankaj', 'is', 'smart', 'boy']"
      ]
     },
     "execution_count": 9,
     "metadata": {},
     "output_type": "execute_result"
    }
   ],
   "source": [
    "s_1 = s1.split(\" \")\n",
    "s_2 = s2.split(\" \")\n",
    "s_2"
   ]
  },
  {
   "cell_type": "code",
   "execution_count": 7,
   "id": "ae8cfa43",
   "metadata": {},
   "outputs": [],
   "source": [
    "result = []\n",
    "for i in s_2:\n",
    "    if i in s_1:\n",
    "        result.append(i)\n",
    "    "
   ]
  },
  {
   "cell_type": "code",
   "execution_count": 8,
   "id": "74c2eaa1",
   "metadata": {},
   "outputs": [
    {
     "data": {
      "text/plain": [
       "['pankaj', 'is', 'boy']"
      ]
     },
     "execution_count": 8,
     "metadata": {},
     "output_type": "execute_result"
    }
   ],
   "source": [
    "result"
   ]
  },
  {
   "cell_type": "code",
   "execution_count": 26,
   "id": "2526fcc9",
   "metadata": {},
   "outputs": [],
   "source": [
    "from itertools import permutations\n",
    "\n",
    "def function(productID):\n",
    "    #productID = int(input(\"Enter productID = \"))\n",
    "\n",
    "    temp = [int(i) for i in str(productID)]\n",
    "\n",
    "    perm = permutations(temp,len(temp) )\n",
    "\n",
    "    per_list = []\n",
    "    for i in list(perm):\n",
    "        per_list.append(i)\n",
    "\n",
    "    smallest_permutation = per_list[0]\n",
    "    largest_permutation = per_list[-1]\n",
    "\n",
    "    s1 = ''\n",
    "    for i in smallest_permutation:\n",
    "        s1 = s1 + str(i)\n",
    "    s2 =''\n",
    "    for i in largest_permutation:\n",
    "        s2 = s2 + str(i)\n",
    "\n",
    "    sum1 = int(s1) + int(s2)\n",
    "\n",
    "    return sum1"
   ]
  },
  {
   "cell_type": "code",
   "execution_count": 27,
   "id": "3ea3bfbd",
   "metadata": {},
   "outputs": [
    {
     "data": {
      "text/plain": [
       "444"
      ]
     },
     "execution_count": 27,
     "metadata": {},
     "output_type": "execute_result"
    }
   ],
   "source": [
    "function(123)"
   ]
  },
  {
   "cell_type": "code",
   "execution_count": 18,
   "id": "5294656b",
   "metadata": {},
   "outputs": [
    {
     "data": {
      "text/plain": [
       "''"
      ]
     },
     "execution_count": 18,
     "metadata": {},
     "output_type": "execute_result"
    }
   ],
   "source": [
    "def function2(productID):\n",
    "    s = str(productID)\n",
    "    "
   ]
  },
  {
   "cell_type": "code",
   "execution_count": 44,
   "id": "7231b641",
   "metadata": {},
   "outputs": [
    {
     "name": "stdout",
     "output_type": "stream",
     "text": [
      "11\n"
     ]
    }
   ],
   "source": [
    "#number of existing locations\n",
    "numOfLocations = 10\n",
    "\n",
    "N = [1,-2, 4,-5, 6, 7, 9, 6, 5, 1 ]\n",
    "\n",
    "n1 = N.copy()\n",
    "\n",
    "n1.sort()\n",
    "\n",
    "op = N.index(n1[-1]) + N.index(n1[-2]) \n",
    "\n",
    "print(op)"
   ]
  },
  {
   "cell_type": "code",
   "execution_count": 42,
   "id": "0683d5da",
   "metadata": {},
   "outputs": [
    {
     "data": {
      "text/plain": [
       "[-5, -2, 1, 1, 4, 5, 6, 6, 7, 9]"
      ]
     },
     "execution_count": 42,
     "metadata": {},
     "output_type": "execute_result"
    }
   ],
   "source": [
    "n1"
   ]
  },
  {
   "cell_type": "code",
   "execution_count": 43,
   "id": "ce6a1bb6",
   "metadata": {},
   "outputs": [
    {
     "data": {
      "text/plain": [
       "[1, -2, 4, -5, 6, 7, 9, 6, 5, 1]"
      ]
     },
     "execution_count": 43,
     "metadata": {},
     "output_type": "execute_result"
    }
   ],
   "source": [
    "N"
   ]
  },
  {
   "cell_type": "code",
   "execution_count": 55,
   "id": "d895f52a",
   "metadata": {},
   "outputs": [
    {
     "name": "stdout",
     "output_type": "stream",
     "text": [
      "Enter number of locations : 3\n",
      "Enter average daily temp -12\n",
      "Enter average daily temp 3\n",
      "Enter average daily temp 7\n",
      "[-12, 3, 7]\n",
      "[-12, 3, 7]\n",
      "3\n"
     ]
    }
   ],
   "source": [
    "#number of existing locations\n",
    "numOfLocations = int(input(\"Enter number of locations : \"))\n",
    "temp_list = []\n",
    "\n",
    "for i in range(numOfLocations):\n",
    "    N = int(input(\"Enter average daily temp \"))\n",
    "    temp_list.append(N)\n",
    "\n",
    "print(temp_list)\n",
    "\n",
    "    \n",
    "temp_list_cp = temp_list.copy()\n",
    "\n",
    "temp_list_cp.sort()\n",
    "print(temp_list_cp)\n",
    "\n",
    "op = temp_list.index(temp_list_cp[-1]) + temp_list.index(temp_list_cp[-2]) \n",
    "\n",
    "print(op)\n"
   ]
  },
  {
   "cell_type": "code",
   "execution_count": null,
   "id": "86ceb045",
   "metadata": {},
   "outputs": [],
   "source": []
  }
 ],
 "metadata": {
  "kernelspec": {
   "display_name": "Python 3 (ipykernel)",
   "language": "python",
   "name": "python3"
  },
  "language_info": {
   "codemirror_mode": {
    "name": "ipython",
    "version": 3
   },
   "file_extension": ".py",
   "mimetype": "text/x-python",
   "name": "python",
   "nbconvert_exporter": "python",
   "pygments_lexer": "ipython3",
   "version": "3.9.7"
  }
 },
 "nbformat": 4,
 "nbformat_minor": 5
}
